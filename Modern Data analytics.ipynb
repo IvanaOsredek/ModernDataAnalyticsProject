{
 "cells": [
  {
   "cell_type": "code",
   "execution_count": 1,
   "metadata": {},
   "outputs": [],
   "source": [
    "import numpy as np\n",
    "import pandas as pd\n",
    "from datetime import datetime\n",
    "import os"
   ]
  },
  {
   "cell_type": "code",
   "execution_count": 2,
   "metadata": {},
   "outputs": [
    {
     "data": {
      "text/plain": [
       "'c:\\\\Users\\\\saaan\\\\Downloads\\\\Advanced Analytics'"
      ]
     },
     "execution_count": 2,
     "metadata": {},
     "output_type": "execute_result"
    }
   ],
   "source": [
    "os.getcwd()"
   ]
  },
  {
   "cell_type": "markdown",
   "metadata": {},
   "source": [
    "#List files to be imported\n",
    "export_40=[\"csv_results_40_255439_mp-01-naamsestraat-35-maxim.csv\",\n",
    "            \"csv_results_40_303910_mp-04-his-hears.csv\",\n",
    "            \"csv_results_40_280324_mp08bis---vrijthof.csv\",\n",
    "            \"csv_results_40_255445_mp-08-kiosk-stadspark.csv\",\n",
    "            \"csv_results_40_255444_mp-07-naamsestraat-81.csv\",\n",
    "            \"csv_results_40_255443_mp-06-parkstraat-2-la-filosovia.csv\",\n",
    "            \"csv_results_40_255442_mp-05-calvariekapel-ku-leuven.csv\",\n",
    "            \"csv_results_40_255441_mp-03-naamsestraat-62-taste.csv\",\n",
    "            \"csv_results_40_255440_mp-02-naamsestraat-57-xior.csv\"]\n",
    "print(len(export_40))\n",
    "\n",
    "export_41=[\"csv_results_41_255439_mp-01-naamsestraat-35-maxim.csv\",\n",
    "           \"csv_results_41_255440_mp-02-naamsestraat-57-xior.csv\",\n",
    "           \"csv_results_41_255441_mp-03-naamsestraat-62-taste.csv\",\n",
    "           \"csv_results_41_255442_mp-05-calvariekapel-ku-leuven.csv\",\n",
    "           \"csv_results_41_255443_mp-06-parkstraat-2-la-filosovia.csv\",\n",
    "           \"csv_results_41_255444_mp-07-naamsestraat-81.csv\",\n",
    "           \"csv_results_41_255445_mp-08-kiosk-stadspark.csv\",\n",
    "           \"csv_results_41_280324_mp08bis---vrijthof.csv\",\n",
    "           \"csv_results_41_303910_mp-04-his-hears.csv\"]\n",
    "print(len(export_41))\n",
    "\n",
    "export_42=[\"csv_results_42_255439_mp-01-naamsestraat-35-maxim.csv\",\n",
    "           \"csv_results_42_255440_mp-02-naamsestraat-57-xior.csv\",\n",
    "           \"csv_results_42_255441_mp-03-naamsestraat-62-taste.csv\",\n",
    "           \"csv_results_42_255442_mp-05-calvariekapel-ku-leuven.csv\",\n",
    "           \"csv_results_42_255443_mp-06-parkstraat-2-la-filosovia.csv\",\n",
    "           \"csv_results_42_255444_mp-07-naamsestraat-81.csv\",\n",
    "           \"csv_results_42_255445_mp-08-kiosk-stadspark.csv\",\n",
    "           \"csv_results_42_280324_mp08bis---vrijthof.csv\",\n",
    "           \"csv_results_42_303910_mp-04-his-hears.csv\"]\n",
    "print(len(export_42))\n"
   ]
  },
  {
   "cell_type": "markdown",
   "metadata": {},
   "source": [
    "df_40 = pd.concat(pd.read_csv(file, sep=\";\") for file in export_40)\n",
    "df_41 = pd.concat(pd.read_csv(file, sep=\";\") for file in export_41)\n",
    "df_42 = pd.concat(pd.read_csv(file, sep=\";\") for file in export_42)\n",
    "\n",
    "\n"
   ]
  },
  {
   "cell_type": "code",
   "execution_count": 68,
   "metadata": {},
   "outputs": [],
   "source": [
    "df=pd.read_csv(\"csv_results_40_255439_mp-01-naamsestraat-35-maxim.csv\", sep=\";\")"
   ]
  },
  {
   "attachments": {},
   "cell_type": "markdown",
   "metadata": {},
   "source": [
    "Keep only a few variables"
   ]
  },
  {
   "cell_type": "code",
   "execution_count": 69,
   "metadata": {},
   "outputs": [],
   "source": [
    "variables_keep=[\"description\",\"#object_id\",\"result_timestamp\",\"laf005_per_hour\"]"
   ]
  },
  {
   "cell_type": "code",
   "execution_count": 70,
   "metadata": {},
   "outputs": [],
   "source": [
    "df=df[variables_keep]"
   ]
  },
  {
   "attachments": {},
   "cell_type": "markdown",
   "metadata": {},
   "source": [
    "Feature engineering: Turn timestamp into month in year, day in week and hour in day column"
   ]
  },
  {
   "cell_type": "code",
   "execution_count": 71,
   "metadata": {},
   "outputs": [],
   "source": [
    "def date_feature_engineering(df,timestamp_column):\n",
    "    \n",
    "    df[timestamp_column]=pd.to_datetime(df[timestamp_column])\n",
    "    df[\"date\"]=df[timestamp_column].dt.date\n",
    "    df[\"year\"]=df[timestamp_column].dt.year\n",
    "    df[\"month\"]=df[timestamp_column].dt.month\n",
    "    df[\"day\"]=df[timestamp_column].dt.day_of_week\n",
    "    df[\"hour\"]=df[timestamp_column].dt.hour\n",
    "\n",
    "    return(df)\n",
    "df=date_feature_engineering(df,\"result_timestamp\")\n"
   ]
  },
  {
   "attachments": {},
   "cell_type": "markdown",
   "metadata": {},
   "source": [
    "add a column for weekends \n"
   ]
  },
  {
   "cell_type": "code",
   "execution_count": 31,
   "metadata": {},
   "outputs": [],
   "source": [
    "def weekend_column(df):\n",
    "    is_weekend=lambda x: 1 if x==5 or x==6 else 0\n",
    "    df[\"weekend\"]=df[\"day\"].apply(is_weekend)\n",
    "    return(df)\n",
    "df=weekend_column(df)"
   ]
  },
  {
   "attachments": {},
   "cell_type": "markdown",
   "metadata": {},
   "source": [
    "Add a column that indicates if a date is a holiday"
   ]
  },
  {
   "cell_type": "code",
   "execution_count": null,
   "metadata": {},
   "outputs": [
    {
     "name": "stdout",
     "output_type": "stream",
     "text": [
      "DatetimeIndex(['2022-01-01'], dtype='datetime64[ns]', freq='D')\n",
      "DatetimeIndex(['2022-01-01', '2022-05-01', '2022-05-26', '2022-11-11',\n",
      "               '2022-01-01', '2022-01-02', '2022-01-03', '2022-01-04',\n",
      "               '2022-01-05', '2022-01-06',\n",
      "               ...\n",
      "               '2022-11-01', '2022-11-02', '2022-12-24', '2022-12-25',\n",
      "               '2022-12-26', '2022-12-27', '2022-12-28', '2022-12-29',\n",
      "               '2022-12-30', '2022-12-31'],\n",
      "              dtype='datetime64[ns]', length=197, freq=None)\n"
     ]
    }
   ],
   "source": [
    "\n",
    "date_index=pd.date_range(end = datetime.strptime(\"2022-01-01\", \"%Y-%m-%d\"), periods = 1)\n",
    "print(date_index)\n",
    "#add holidays that only last one day to te list\n",
    "dates_1day=[\"2022-05-01 00:00:00\",\"2022-05-26 00:00:00\",\"2022-11-11 00:00:00\"]\n",
    "\n",
    "def dates_1day_index(date,list_of_dates):\n",
    "    list_of_dates=list_of_dates.append(pd.date_range(end = datetime.strptime( date, \"%Y-%m-%d\"), periods = 1))\n",
    "    return(list_of_dates)\n",
    "\n",
    "for item in dates_1day:\n",
    "    date_index=dates_1day_index(item,date_index)\n",
    "\n",
    "\n",
    "\n",
    "\n",
    "#add holidays that last longer than one day to the list\n",
    "dates_moredays=[[\"2022-01-01 00:00:00\", \"2022-02-13 00:00:00\"],[\"2022-04-02 00:00:00\",\"2022-04-18 00:00:00\"],[\"2022-05-28 00:00:00\",\"2022-09-26 00:00:00\"],[\"2022-11-01 00:00:00\", \"2022-11-02 00:00:00\"],[\"2022-12-24 00:00:00\",\"2022-12-31 00:00:00\"]]\n",
    "\n",
    "def dates_moredays_index(dates_pair, list_of_dates):\n",
    "    list_of_dates=list_of_dates.append(pd.date_range(dates_pair[0], dates_pair[1], freq='D'))\n",
    "    return(list_of_dates)\n",
    "\n",
    "\n",
    "for item in dates_moredays:\n",
    "    date_index=dates_moredays_index(item, date_index)\n",
    "\n",
    "print(date_index)\n",
    "#add a column with holdays\n"
   ]
  },
  {
   "attachments": {},
   "cell_type": "markdown",
   "metadata": {},
   "source": [
    "Problem with the code: result timestamp only in index_list if time 00:00:00 so we need to turn the timestamp variable from the  \"%Y-%m-%d %H:%M:%S\" notation to the \"%Y-%m-%d\" notation\n",
    "solution: record holiday dates in \"%Y-%m-%d %H:%M:%S\" and use freq=\"H\" in the datetime function"
   ]
  },
  {
   "cell_type": "code",
   "execution_count": 120,
   "metadata": {},
   "outputs": [
    {
     "name": "stdout",
     "output_type": "stream",
     "text": [
      "4590\n"
     ]
    }
   ],
   "source": [
    "def dates_1day_index(date,list_of_dates):\n",
    "    list_of_dates=list_of_dates.append(pd.date_range(end = datetime.strptime( date, \"%Y-%m-%d %H:%M:%S\"), periods=24,freq = \"H\"))\n",
    "    return(list_of_dates)\n",
    "    \n",
    "def dates_moredays_index(dates_pair, list_of_dates):\n",
    "    list_of_dates=list_of_dates.append(pd.date_range(dates_pair[0], dates_pair[1], freq='H'))\n",
    "    return(list_of_dates)\n",
    "    \n",
    "def holiday_column(df):\n",
    "    #create a date index\n",
    "    date_index=pd.date_range(end = datetime.strptime(\"2022-01-01\", \"%Y-%m-%d\"), periods = 1)\n",
    "    #add holidays that only last one day to te list\n",
    "    dates_1day=[\"2022-05-01 00:00:00\",\"2022-05-26 00:00:00\",\"2022-11-11 00:00:00\"]    #add holidays that last longer than one day to the list\n",
    "    dates_moredays=[[\"2022-01-01 00:00:00\", \"2022-02-13 00:00:00\"],[\"2022-04-02 00:00:00\",\"2022-04-18 00:00:00\"],[\"2022-05-28 00:00:00\",\"2022-09-26 00:00:00\"],[\"2022-11-01 00:00:00\", \"2022-11-02 00:00:00\"],[\"2022-12-24 00:00:00\",\"2022-12-31 00:00:00\"]]\n",
    "\n",
    "    for item in dates_1day:\n",
    "        date_index=dates_1day_index(item,date_index)\n",
    "\n",
    "    for item in dates_moredays:\n",
    "        date_index=dates_moredays_index(item, date_index)\n",
    "    \n",
    "\n",
    "    is_holiday=lambda x: 1 if  x  in date_index else 0\n",
    "    df[\"holiday\"]=df[\"result_timestamp\"].apply(is_holiday)\n",
    "    print(len(date_index))\n",
    "\n",
    "    return(df)\n",
    "\n",
    "df=holiday_column(df)\n",
    "    \n",
    "\n"
   ]
  },
  {
   "cell_type": "code",
   "execution_count": 121,
   "metadata": {},
   "outputs": [
    {
     "data": {
      "text/html": [
       "<div>\n",
       "<style scoped>\n",
       "    .dataframe tbody tr th:only-of-type {\n",
       "        vertical-align: middle;\n",
       "    }\n",
       "\n",
       "    .dataframe tbody tr th {\n",
       "        vertical-align: top;\n",
       "    }\n",
       "\n",
       "    .dataframe thead th {\n",
       "        text-align: right;\n",
       "    }\n",
       "</style>\n",
       "<table border=\"1\" class=\"dataframe\">\n",
       "  <thead>\n",
       "    <tr style=\"text-align: right;\">\n",
       "      <th></th>\n",
       "      <th>description</th>\n",
       "      <th>#object_id</th>\n",
       "      <th>result_timestamp</th>\n",
       "      <th>laf005_per_hour</th>\n",
       "      <th>date</th>\n",
       "      <th>year</th>\n",
       "      <th>month</th>\n",
       "      <th>day</th>\n",
       "      <th>hour</th>\n",
       "      <th>holiday</th>\n",
       "    </tr>\n",
       "  </thead>\n",
       "  <tbody>\n",
       "    <tr>\n",
       "      <th>0</th>\n",
       "      <td>MP 01: Naamsestraat 35  Maxim</td>\n",
       "      <td>255439</td>\n",
       "      <td>2022-07-03 13:00:00</td>\n",
       "      <td>65.4</td>\n",
       "      <td>2022-07-03</td>\n",
       "      <td>2022</td>\n",
       "      <td>7</td>\n",
       "      <td>6</td>\n",
       "      <td>13</td>\n",
       "      <td>1</td>\n",
       "    </tr>\n",
       "    <tr>\n",
       "      <th>1</th>\n",
       "      <td>MP 01: Naamsestraat 35  Maxim</td>\n",
       "      <td>255439</td>\n",
       "      <td>2022-07-03 14:00:00</td>\n",
       "      <td>72.2</td>\n",
       "      <td>2022-07-03</td>\n",
       "      <td>2022</td>\n",
       "      <td>7</td>\n",
       "      <td>6</td>\n",
       "      <td>14</td>\n",
       "      <td>1</td>\n",
       "    </tr>\n",
       "    <tr>\n",
       "      <th>2</th>\n",
       "      <td>MP 01: Naamsestraat 35  Maxim</td>\n",
       "      <td>255439</td>\n",
       "      <td>2022-07-03 15:00:00</td>\n",
       "      <td>74.5</td>\n",
       "      <td>2022-07-03</td>\n",
       "      <td>2022</td>\n",
       "      <td>7</td>\n",
       "      <td>6</td>\n",
       "      <td>15</td>\n",
       "      <td>1</td>\n",
       "    </tr>\n",
       "    <tr>\n",
       "      <th>3</th>\n",
       "      <td>MP 01: Naamsestraat 35  Maxim</td>\n",
       "      <td>255439</td>\n",
       "      <td>2022-07-03 16:00:00</td>\n",
       "      <td>72.0</td>\n",
       "      <td>2022-07-03</td>\n",
       "      <td>2022</td>\n",
       "      <td>7</td>\n",
       "      <td>6</td>\n",
       "      <td>16</td>\n",
       "      <td>1</td>\n",
       "    </tr>\n",
       "    <tr>\n",
       "      <th>4</th>\n",
       "      <td>MP 01: Naamsestraat 35  Maxim</td>\n",
       "      <td>255439</td>\n",
       "      <td>2022-07-03 17:00:00</td>\n",
       "      <td>72.6</td>\n",
       "      <td>2022-07-03</td>\n",
       "      <td>2022</td>\n",
       "      <td>7</td>\n",
       "      <td>6</td>\n",
       "      <td>17</td>\n",
       "      <td>1</td>\n",
       "    </tr>\n",
       "    <tr>\n",
       "      <th>...</th>\n",
       "      <td>...</td>\n",
       "      <td>...</td>\n",
       "      <td>...</td>\n",
       "      <td>...</td>\n",
       "      <td>...</td>\n",
       "      <td>...</td>\n",
       "      <td>...</td>\n",
       "      <td>...</td>\n",
       "      <td>...</td>\n",
       "      <td>...</td>\n",
       "    </tr>\n",
       "    <tr>\n",
       "      <th>6132</th>\n",
       "      <td>MP 01: Naamsestraat 35  Maxim</td>\n",
       "      <td>255439</td>\n",
       "      <td>2022-09-12 19:00:00</td>\n",
       "      <td>73.9</td>\n",
       "      <td>2022-09-12</td>\n",
       "      <td>2022</td>\n",
       "      <td>9</td>\n",
       "      <td>0</td>\n",
       "      <td>19</td>\n",
       "      <td>1</td>\n",
       "    </tr>\n",
       "    <tr>\n",
       "      <th>6133</th>\n",
       "      <td>MP 01: Naamsestraat 35  Maxim</td>\n",
       "      <td>255439</td>\n",
       "      <td>2022-09-12 20:00:00</td>\n",
       "      <td>73.9</td>\n",
       "      <td>2022-09-12</td>\n",
       "      <td>2022</td>\n",
       "      <td>9</td>\n",
       "      <td>0</td>\n",
       "      <td>20</td>\n",
       "      <td>1</td>\n",
       "    </tr>\n",
       "    <tr>\n",
       "      <th>6134</th>\n",
       "      <td>MP 01: Naamsestraat 35  Maxim</td>\n",
       "      <td>255439</td>\n",
       "      <td>2022-09-12 21:00:00</td>\n",
       "      <td>73.8</td>\n",
       "      <td>2022-09-12</td>\n",
       "      <td>2022</td>\n",
       "      <td>9</td>\n",
       "      <td>0</td>\n",
       "      <td>21</td>\n",
       "      <td>1</td>\n",
       "    </tr>\n",
       "    <tr>\n",
       "      <th>6135</th>\n",
       "      <td>MP 01: Naamsestraat 35  Maxim</td>\n",
       "      <td>255439</td>\n",
       "      <td>2022-09-12 22:00:00</td>\n",
       "      <td>72.8</td>\n",
       "      <td>2022-09-12</td>\n",
       "      <td>2022</td>\n",
       "      <td>9</td>\n",
       "      <td>0</td>\n",
       "      <td>22</td>\n",
       "      <td>1</td>\n",
       "    </tr>\n",
       "    <tr>\n",
       "      <th>6136</th>\n",
       "      <td>MP 01: Naamsestraat 35  Maxim</td>\n",
       "      <td>255439</td>\n",
       "      <td>2022-09-12 23:00:00</td>\n",
       "      <td>73.6</td>\n",
       "      <td>2022-09-12</td>\n",
       "      <td>2022</td>\n",
       "      <td>9</td>\n",
       "      <td>0</td>\n",
       "      <td>23</td>\n",
       "      <td>1</td>\n",
       "    </tr>\n",
       "  </tbody>\n",
       "</table>\n",
       "<p>3474 rows × 10 columns</p>\n",
       "</div>"
      ],
      "text/plain": [
       "                        description  #object_id    result_timestamp  \\\n",
       "0     MP 01: Naamsestraat 35  Maxim      255439 2022-07-03 13:00:00   \n",
       "1     MP 01: Naamsestraat 35  Maxim      255439 2022-07-03 14:00:00   \n",
       "2     MP 01: Naamsestraat 35  Maxim      255439 2022-07-03 15:00:00   \n",
       "3     MP 01: Naamsestraat 35  Maxim      255439 2022-07-03 16:00:00   \n",
       "4     MP 01: Naamsestraat 35  Maxim      255439 2022-07-03 17:00:00   \n",
       "...                             ...         ...                 ...   \n",
       "6132  MP 01: Naamsestraat 35  Maxim      255439 2022-09-12 19:00:00   \n",
       "6133  MP 01: Naamsestraat 35  Maxim      255439 2022-09-12 20:00:00   \n",
       "6134  MP 01: Naamsestraat 35  Maxim      255439 2022-09-12 21:00:00   \n",
       "6135  MP 01: Naamsestraat 35  Maxim      255439 2022-09-12 22:00:00   \n",
       "6136  MP 01: Naamsestraat 35  Maxim      255439 2022-09-12 23:00:00   \n",
       "\n",
       "      laf005_per_hour        date  year  month  day  hour  holiday  \n",
       "0                65.4  2022-07-03  2022      7    6    13        1  \n",
       "1                72.2  2022-07-03  2022      7    6    14        1  \n",
       "2                74.5  2022-07-03  2022      7    6    15        1  \n",
       "3                72.0  2022-07-03  2022      7    6    16        1  \n",
       "4                72.6  2022-07-03  2022      7    6    17        1  \n",
       "...               ...         ...   ...    ...  ...   ...      ...  \n",
       "6132             73.9  2022-09-12  2022      9    0    19        1  \n",
       "6133             73.9  2022-09-12  2022      9    0    20        1  \n",
       "6134             73.8  2022-09-12  2022      9    0    21        1  \n",
       "6135             72.8  2022-09-12  2022      9    0    22        1  \n",
       "6136             73.6  2022-09-12  2022      9    0    23        1  \n",
       "\n",
       "[3474 rows x 10 columns]"
      ]
     },
     "execution_count": 121,
     "metadata": {},
     "output_type": "execute_result"
    }
   ],
   "source": [
    "df[df[\"holiday\"]==1]"
   ]
  }
 ],
 "metadata": {
  "kernelspec": {
   "display_name": "base",
   "language": "python",
   "name": "python3"
  },
  "language_info": {
   "codemirror_mode": {
    "name": "ipython",
    "version": 3
   },
   "file_extension": ".py",
   "mimetype": "text/x-python",
   "name": "python",
   "nbconvert_exporter": "python",
   "pygments_lexer": "ipython3",
   "version": "3.9.13"
  },
  "orig_nbformat": 4
 },
 "nbformat": 4,
 "nbformat_minor": 2
}
