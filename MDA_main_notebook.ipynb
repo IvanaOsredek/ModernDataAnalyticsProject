{
 "cells": [
  {
   "attachments": {},
   "cell_type": "markdown",
   "metadata": {},
   "source": [
    "# MDA project: predicting crowdedness in Leuven through noise and weather data"
   ]
  },
  {
   "attachments": {},
   "cell_type": "markdown",
   "metadata": {},
   "source": [
    "### Importing packages"
   ]
  },
  {
   "cell_type": "code",
   "execution_count": null,
   "metadata": {},
   "outputs": [
    {
     "name": "stderr",
     "output_type": "stream",
     "text": [
      "c:\\Users\\Arthur\\miniconda3\\envs\\course_mda\\lib\\site-packages\\shap\\utils\\_clustering.py:35: NumbaDeprecationWarning: \u001b[1mThe 'nopython' keyword argument was not supplied to the 'numba.jit' decorator. The implicit default value for this argument is currently False, but it will be changed to True in Numba 0.59.0. See https://numba.readthedocs.io/en/stable/reference/deprecation.html#deprecation-of-object-mode-fall-back-behaviour-when-using-jit for details.\u001b[0m\n",
      "  def _pt_shuffle_rec(i, indexes, index_mask, partition_tree, M, pos):\n",
      "c:\\Users\\Arthur\\miniconda3\\envs\\course_mda\\lib\\site-packages\\shap\\utils\\_clustering.py:54: NumbaDeprecationWarning: \u001b[1mThe 'nopython' keyword argument was not supplied to the 'numba.jit' decorator. The implicit default value for this argument is currently False, but it will be changed to True in Numba 0.59.0. See https://numba.readthedocs.io/en/stable/reference/deprecation.html#deprecation-of-object-mode-fall-back-behaviour-when-using-jit for details.\u001b[0m\n",
      "  def delta_minimization_order(all_masks, max_swap_size=100, num_passes=2):\n",
      "c:\\Users\\Arthur\\miniconda3\\envs\\course_mda\\lib\\site-packages\\shap\\utils\\_clustering.py:63: NumbaDeprecationWarning: \u001b[1mThe 'nopython' keyword argument was not supplied to the 'numba.jit' decorator. The implicit default value for this argument is currently False, but it will be changed to True in Numba 0.59.0. See https://numba.readthedocs.io/en/stable/reference/deprecation.html#deprecation-of-object-mode-fall-back-behaviour-when-using-jit for details.\u001b[0m\n",
      "  def _reverse_window(order, start, length):\n",
      "c:\\Users\\Arthur\\miniconda3\\envs\\course_mda\\lib\\site-packages\\shap\\utils\\_clustering.py:69: NumbaDeprecationWarning: \u001b[1mThe 'nopython' keyword argument was not supplied to the 'numba.jit' decorator. The implicit default value for this argument is currently False, but it will be changed to True in Numba 0.59.0. See https://numba.readthedocs.io/en/stable/reference/deprecation.html#deprecation-of-object-mode-fall-back-behaviour-when-using-jit for details.\u001b[0m\n",
      "  def _reverse_window_score_gain(masks, order, start, length):\n",
      "c:\\Users\\Arthur\\miniconda3\\envs\\course_mda\\lib\\site-packages\\shap\\utils\\_clustering.py:77: NumbaDeprecationWarning: \u001b[1mThe 'nopython' keyword argument was not supplied to the 'numba.jit' decorator. The implicit default value for this argument is currently False, but it will be changed to True in Numba 0.59.0. See https://numba.readthedocs.io/en/stable/reference/deprecation.html#deprecation-of-object-mode-fall-back-behaviour-when-using-jit for details.\u001b[0m\n",
      "  def _mask_delta_score(m1, m2):\n",
      "c:\\Users\\Arthur\\miniconda3\\envs\\course_mda\\lib\\site-packages\\shap\\links.py:5: NumbaDeprecationWarning: \u001b[1mThe 'nopython' keyword argument was not supplied to the 'numba.jit' decorator. The implicit default value for this argument is currently False, but it will be changed to True in Numba 0.59.0. See https://numba.readthedocs.io/en/stable/reference/deprecation.html#deprecation-of-object-mode-fall-back-behaviour-when-using-jit for details.\u001b[0m\n",
      "  def identity(x):\n",
      "c:\\Users\\Arthur\\miniconda3\\envs\\course_mda\\lib\\site-packages\\shap\\links.py:10: NumbaDeprecationWarning: \u001b[1mThe 'nopython' keyword argument was not supplied to the 'numba.jit' decorator. The implicit default value for this argument is currently False, but it will be changed to True in Numba 0.59.0. See https://numba.readthedocs.io/en/stable/reference/deprecation.html#deprecation-of-object-mode-fall-back-behaviour-when-using-jit for details.\u001b[0m\n",
      "  def _identity_inverse(x):\n",
      "c:\\Users\\Arthur\\miniconda3\\envs\\course_mda\\lib\\site-packages\\shap\\links.py:15: NumbaDeprecationWarning: \u001b[1mThe 'nopython' keyword argument was not supplied to the 'numba.jit' decorator. The implicit default value for this argument is currently False, but it will be changed to True in Numba 0.59.0. See https://numba.readthedocs.io/en/stable/reference/deprecation.html#deprecation-of-object-mode-fall-back-behaviour-when-using-jit for details.\u001b[0m\n",
      "  def logit(x):\n",
      "c:\\Users\\Arthur\\miniconda3\\envs\\course_mda\\lib\\site-packages\\shap\\links.py:20: NumbaDeprecationWarning: \u001b[1mThe 'nopython' keyword argument was not supplied to the 'numba.jit' decorator. The implicit default value for this argument is currently False, but it will be changed to True in Numba 0.59.0. See https://numba.readthedocs.io/en/stable/reference/deprecation.html#deprecation-of-object-mode-fall-back-behaviour-when-using-jit for details.\u001b[0m\n",
      "  def _logit_inverse(x):\n",
      "c:\\Users\\Arthur\\miniconda3\\envs\\course_mda\\lib\\site-packages\\shap\\utils\\_masked_model.py:363: NumbaDeprecationWarning: \u001b[1mThe 'nopython' keyword argument was not supplied to the 'numba.jit' decorator. The implicit default value for this argument is currently False, but it will be changed to True in Numba 0.59.0. See https://numba.readthedocs.io/en/stable/reference/deprecation.html#deprecation-of-object-mode-fall-back-behaviour-when-using-jit for details.\u001b[0m\n",
      "  def _build_fixed_single_output(averaged_outs, last_outs, outputs, batch_positions, varying_rows, num_varying_rows, link, linearizing_weights):\n",
      "c:\\Users\\Arthur\\miniconda3\\envs\\course_mda\\lib\\site-packages\\shap\\utils\\_masked_model.py:385: NumbaDeprecationWarning: \u001b[1mThe 'nopython' keyword argument was not supplied to the 'numba.jit' decorator. The implicit default value for this argument is currently False, but it will be changed to True in Numba 0.59.0. See https://numba.readthedocs.io/en/stable/reference/deprecation.html#deprecation-of-object-mode-fall-back-behaviour-when-using-jit for details.\u001b[0m\n",
      "  def _build_fixed_multi_output(averaged_outs, last_outs, outputs, batch_positions, varying_rows, num_varying_rows, link, linearizing_weights):\n",
      "c:\\Users\\Arthur\\miniconda3\\envs\\course_mda\\lib\\site-packages\\shap\\utils\\_masked_model.py:428: NumbaDeprecationWarning: \u001b[1mThe 'nopython' keyword argument was not supplied to the 'numba.jit' decorator. The implicit default value for this argument is currently False, but it will be changed to True in Numba 0.59.0. See https://numba.readthedocs.io/en/stable/reference/deprecation.html#deprecation-of-object-mode-fall-back-behaviour-when-using-jit for details.\u001b[0m\n",
      "  def _init_masks(cluster_matrix, M, indices_row_pos, indptr):\n",
      "c:\\Users\\Arthur\\miniconda3\\envs\\course_mda\\lib\\site-packages\\shap\\utils\\_masked_model.py:439: NumbaDeprecationWarning: \u001b[1mThe 'nopython' keyword argument was not supplied to the 'numba.jit' decorator. The implicit default value for this argument is currently False, but it will be changed to True in Numba 0.59.0. See https://numba.readthedocs.io/en/stable/reference/deprecation.html#deprecation-of-object-mode-fall-back-behaviour-when-using-jit for details.\u001b[0m\n",
      "  def _rec_fill_masks(cluster_matrix, indices_row_pos, indptr, indices, M, ind):\n",
      "c:\\Users\\Arthur\\miniconda3\\envs\\course_mda\\lib\\site-packages\\shap\\maskers\\_tabular.py:186: NumbaDeprecationWarning: \u001b[1mThe 'nopython' keyword argument was not supplied to the 'numba.jit' decorator. The implicit default value for this argument is currently False, but it will be changed to True in Numba 0.59.0. See https://numba.readthedocs.io/en/stable/reference/deprecation.html#deprecation-of-object-mode-fall-back-behaviour-when-using-jit for details.\u001b[0m\n",
      "  def _single_delta_mask(dind, masked_inputs, last_mask, data, x, noop_code):\n",
      "c:\\Users\\Arthur\\miniconda3\\envs\\course_mda\\lib\\site-packages\\shap\\maskers\\_tabular.py:197: NumbaDeprecationWarning: \u001b[1mThe 'nopython' keyword argument was not supplied to the 'numba.jit' decorator. The implicit default value for this argument is currently False, but it will be changed to True in Numba 0.59.0. See https://numba.readthedocs.io/en/stable/reference/deprecation.html#deprecation-of-object-mode-fall-back-behaviour-when-using-jit for details.\u001b[0m\n",
      "  def _delta_masking(masks, x, curr_delta_inds, varying_rows_out,\n",
      "c:\\Users\\Arthur\\miniconda3\\envs\\course_mda\\lib\\site-packages\\shap\\maskers\\_image.py:175: NumbaDeprecationWarning: \u001b[1mThe 'nopython' keyword argument was not supplied to the 'numba.jit' decorator. The implicit default value for this argument is currently False, but it will be changed to True in Numba 0.59.0. See https://numba.readthedocs.io/en/stable/reference/deprecation.html#deprecation-of-object-mode-fall-back-behaviour-when-using-jit for details.\u001b[0m\n",
      "  def _jit_build_partition_tree(xmin, xmax, ymin, ymax, zmin, zmax, total_ywidth, total_zwidth, M, clustering, q):\n",
      "c:\\Users\\Arthur\\miniconda3\\envs\\course_mda\\lib\\site-packages\\shap\\explainers\\_partition.py:676: NumbaDeprecationWarning: \u001b[1mThe 'nopython' keyword argument was not supplied to the 'numba.jit' decorator. The implicit default value for this argument is currently False, but it will be changed to True in Numba 0.59.0. See https://numba.readthedocs.io/en/stable/reference/deprecation.html#deprecation-of-object-mode-fall-back-behaviour-when-using-jit for details.\u001b[0m\n",
      "  def lower_credit(i, value, M, values, clustering):\n",
      "\u001b[1mThe 'nopython' keyword argument was not supplied to the 'numba.jit' decorator. The implicit default value for this argument is currently False, but it will be changed to True in Numba 0.59.0. See https://numba.readthedocs.io/en/stable/reference/deprecation.html#deprecation-of-object-mode-fall-back-behaviour-when-using-jit for details.\u001b[0m\n",
      "\u001b[1mThe 'nopython' keyword argument was not supplied to the 'numba.jit' decorator. The implicit default value for this argument is currently False, but it will be changed to True in Numba 0.59.0. See https://numba.readthedocs.io/en/stable/reference/deprecation.html#deprecation-of-object-mode-fall-back-behaviour-when-using-jit for details.\u001b[0m\n"
     ]
    }
   ],
   "source": [
    "import pandas as pd\n",
    "import numpy as np\n",
    "from matplotlib.patches import Patch\n",
    "import shap\n",
    "from sklearn.model_selection import TimeSeriesSplit\n",
    "from sklearn.pipeline import make_pipeline\n",
    "from sklearn.pipeline import Pipeline\n",
    "from sklearn.model_selection import cross_validate\n",
    "from xgboost import XGBRegressor\n",
    "from sklearn.ensemble import HistGradientBoostingRegressor\n",
    "from sklearn.preprocessing import MinMaxScaler\n",
    "from sklearn.preprocessing import StandardScaler\n",
    "from sklearn.linear_model import RidgeCV\n",
    "from sklearn.linear_model import Ridge\n",
    "from sklearn.preprocessing import SplineTransformer\n",
    "from sklearn.compose import ColumnTransformer\n",
    "from sklearn.preprocessing import FunctionTransformer\n",
    "from sklearn.preprocessing import PolynomialFeatures\n",
    "from sklearn.pipeline import FeatureUnion\n",
    "from sklearn.model_selection import GridSearchCV\n",
    "import matplotlib.pyplot as plt\n",
    "from sklearn.metrics import mean_absolute_error, mean_squared_error\n",
    "from sklearn.model_selection import KFold\n"
   ]
  },
  {
   "attachments": {},
   "cell_type": "markdown",
   "metadata": {},
   "source": [
    "### Loading data and adding time-related features"
   ]
  },
  {
   "cell_type": "code",
   "execution_count": null,
   "metadata": {},
   "outputs": [],
   "source": [
    "final_df = pd.read_csv(\"C:\\\\Users\\Arthur\\hello\\\\final_df.csv\", delimiter=\";\")\n",
    "final_df['result_timestamp'] = pd.to_datetime(final_df['result_timestamp'], format='%Y-%m-%d %H:%M:%S')"
   ]
  },
  {
   "attachments": {},
   "cell_type": "markdown",
   "metadata": {},
   "source": [
    "Perform 80-20 split"
   ]
  },
  {
   "cell_type": "code",
   "execution_count": null,
   "metadata": {},
   "outputs": [],
   "source": [
    "#split data in first 80% and last 20%\n",
    "def split8020(df):\n",
    "    first80 = int(len(df) * 0.8)\n",
    "    last20 = int(len(df) * 0.2)\n",
    "    df_first80 = df.iloc[:first80,]\n",
    "    df_last20 = df.iloc[last20:,]\n",
    "\n",
    "    return df_first80, df_last20\n",
    "\n",
    "final_df_first80, final_df_last20 = split8020(final_df)"
   ]
  },
  {
   "cell_type": "code",
   "execution_count": null,
   "metadata": {},
   "outputs": [
    {
     "name": "stdout",
     "output_type": "stream",
     "text": [
      "<class 'pandas.core.frame.DataFrame'>\n",
      "RangeIndex: 265964 entries, 0 to 265963\n",
      "Data columns (total 32 columns):\n",
      " #   Column            Non-Null Count   Dtype         \n",
      "---  ------            --------------   -----         \n",
      " 0   object_id         265964 non-null  int64         \n",
      " 1   result_timestamp  265964 non-null  datetime64[ns]\n",
      " 2   laeq              265964 non-null  float64       \n",
      " 3   hour              265964 non-null  int64         \n",
      " 4   day_of_week       265964 non-null  int64         \n",
      " 5   month             265964 non-null  int64         \n",
      " 6   weekend           265964 non-null  bool          \n",
      " 7   holiday           265964 non-null  bool          \n",
      " 8   exam_period       265964 non-null  bool          \n",
      " 9   key               265964 non-null  object        \n",
      " 10  255439            265964 non-null  bool          \n",
      " 11  255440            265964 non-null  bool          \n",
      " 12  255441            265964 non-null  bool          \n",
      " 13  255442            265964 non-null  bool          \n",
      " 14  255443            265964 non-null  bool          \n",
      " 15  255444            265964 non-null  bool          \n",
      " 16  255445            265964 non-null  bool          \n",
      " 17  280324            265964 non-null  bool          \n",
      " 18  303910            265964 non-null  bool          \n",
      " 19  LC_HUMIDITY       265921 non-null  float64       \n",
      " 20  LC_DWPTEMP        265921 non-null  float64       \n",
      " 21  LC_n              265921 non-null  float64       \n",
      " 22  LC_RAD            265921 non-null  float64       \n",
      " 23  LC_RAININ         265921 non-null  float64       \n",
      " 24  LC_DAILYRAIN      265921 non-null  float64       \n",
      " 25  LC_WINDDIR        265921 non-null  float64       \n",
      " 26  LC_WINDSPEED      265921 non-null  float64       \n",
      " 27  LC_RAD60          265960 non-null  float64       \n",
      " 28  LC_TEMP_QCL0      265921 non-null  float64       \n",
      " 29  LC_TEMP_QCL1      265754 non-null  float64       \n",
      " 30  LC_TEMP_QCL2      265754 non-null  float64       \n",
      " 31  LC_TEMP_QCL3      265754 non-null  float64       \n",
      "dtypes: bool(12), datetime64[ns](1), float64(14), int64(4), object(1)\n",
      "memory usage: 43.6+ MB\n"
     ]
    }
   ],
   "source": [
    "final_df_first80.info()"
   ]
  },
  {
   "attachments": {},
   "cell_type": "markdown",
   "metadata": {},
   "source": [
    "### Exploratory data analyses"
   ]
  },
  {
   "cell_type": "code",
   "execution_count": null,
   "metadata": {},
   "outputs": [],
   "source": []
  },
  {
   "cell_type": "code",
   "execution_count": null,
   "metadata": {},
   "outputs": [],
   "source": []
  },
  {
   "cell_type": "code",
   "execution_count": null,
   "metadata": {},
   "outputs": [],
   "source": []
  },
  {
   "attachments": {},
   "cell_type": "markdown",
   "metadata": {},
   "source": [
    "Preprocessing pipeline: delaying noise and weather"
   ]
  },
  {
   "cell_type": "code",
   "execution_count": null,
   "metadata": {},
   "outputs": [],
   "source": [
    "#Select only 3 locations close to Oude Markt\n",
    "final_df_first80 = final_df_first80[final_df_first80['object_id']<255442]\n",
    "final_df_last20 = final_df_last20[final_df_last20['object_id']<255442]"
   ]
  },
  {
   "cell_type": "code",
   "execution_count": null,
   "metadata": {},
   "outputs": [],
   "source": [
    "#pipeline to create feature matrix with delayed noise and weather data, as well as target vector.\n",
    "\n",
    "def delay_noise_weather(df):\n",
    "    # Select columns for df_noisedelay\n",
    "    df_noisedelay = df.loc[:, ['object_id', 'result_timestamp', 'laeq']]\n",
    "    df_noisedelay['laeq_delayed'] = df_noisedelay['laeq']\n",
    "    df_noisedelay= df_noisedelay.drop('laeq',axis=1)\n",
    "    \n",
    "    # Add 6 hours to result_timestamp\n",
    "    df_noisedelay['result_timestamp'] += pd.DateOffset(hours=6)\n",
    "\n",
    "    # Create key column\n",
    "    df_noisedelay['key'] = df_noisedelay['object_id'].astype(str) + df_noisedelay['result_timestamp'].astype(str)\n",
    "\n",
    "    # Drop unnecessary columns\n",
    "    df_noisedelay = df_noisedelay.drop(['object_id', 'result_timestamp'], axis=1)\n",
    "\n",
    "    # Select columns for df_weatherdelay\n",
    "    df_weatherdelay = df.loc[:, ['object_id', 'result_timestamp', 'LC_HUMIDITY', 'LC_DWPTEMP', 'LC_n', 'LC_RAD', 'LC_RAININ',\n",
    "                          'LC_DAILYRAIN', 'LC_WINDDIR', 'LC_WINDSPEED', 'LC_RAD60', 'LC_TEMP_QCL0']]\n",
    "\n",
    "    # Add 6 hours to result_timestamp\n",
    "    df_weatherdelay['result_timestamp'] += pd.DateOffset(hours=6)\n",
    "\n",
    "    # Create key column\n",
    "    df_weatherdelay['key'] = df_weatherdelay['object_id'].astype(str) + df_weatherdelay['result_timestamp'].astype(str)\n",
    "\n",
    "    # Drop unnecessary columns\n",
    "    df_weatherdelay = df_weatherdelay.drop(['object_id', 'result_timestamp'], axis=1)\n",
    "\n",
    "    #Drop weather-related columns from original df\n",
    "    df = df.drop(['LC_HUMIDITY', 'LC_DWPTEMP', 'LC_n', 'LC_RAD', 'LC_RAININ',\n",
    "                  'LC_DAILYRAIN', 'LC_WINDDIR', 'LC_WINDSPEED', 'LC_RAD60', 'LC_TEMP_QCL0'], axis=1)\n",
    "    df['key'] = df['object_id'].astype(str) + df['result_timestamp'].astype(str)\n",
    "\n",
    "    # Merge df with df_noisedelay and df_weatherdelay on 'key'\n",
    "    delayed_df = pd.merge(df, df_noisedelay, on='key').merge(df_weatherdelay, on='key')\n",
    "\n",
    "    # Delete observations with missing values\n",
    "    delayed_df = delayed_df.dropna()\n",
    "\n",
    "    # Create feature matrix X and target vector y\n",
    "    X = delayed_df.drop(['result_timestamp', 'key','laeq', 'object_id','255442', '255443', '255444', '255445',\n",
    "       '280324', '303910'], axis=1)\n",
    "    y = delayed_df['laeq']\n",
    "\n",
    "    # Return full dataframe with delays, return feature matrix X and target vector y\n",
    "    return delayed_df, X, y\n",
    "\n",
    "#Apply to df\n",
    "delayed_df, X, y = delay_noise_weather(final_df_first80)\n",
    "    "
   ]
  },
  {
   "cell_type": "code",
   "execution_count": null,
   "metadata": {},
   "outputs": [
    {
     "name": "stdout",
     "output_type": "stream",
     "text": [
      "<class 'pandas.core.frame.DataFrame'>\n",
      "Index: 111546 entries, 1 to 111648\n",
      "Data columns (total 23 columns):\n",
      " #   Column        Non-Null Count   Dtype  \n",
      "---  ------        --------------   -----  \n",
      " 0   hour          111546 non-null  int64  \n",
      " 1   day_of_week   111546 non-null  int64  \n",
      " 2   month         111546 non-null  int64  \n",
      " 3   weekend       111546 non-null  bool   \n",
      " 4   holiday       111546 non-null  bool   \n",
      " 5   exam_period   111546 non-null  bool   \n",
      " 6   255439        111546 non-null  bool   \n",
      " 7   255440        111546 non-null  bool   \n",
      " 8   255441        111546 non-null  bool   \n",
      " 9   LC_TEMP_QCL1  111546 non-null  float64\n",
      " 10  LC_TEMP_QCL2  111546 non-null  float64\n",
      " 11  LC_TEMP_QCL3  111546 non-null  float64\n",
      " 12  laeq_delayed  111546 non-null  float64\n",
      " 13  LC_HUMIDITY   111546 non-null  float64\n",
      " 14  LC_DWPTEMP    111546 non-null  float64\n",
      " 15  LC_n          111546 non-null  float64\n",
      " 16  LC_RAD        111546 non-null  float64\n",
      " 17  LC_RAININ     111546 non-null  float64\n",
      " 18  LC_DAILYRAIN  111546 non-null  float64\n",
      " 19  LC_WINDDIR    111546 non-null  float64\n",
      " 20  LC_WINDSPEED  111546 non-null  float64\n",
      " 21  LC_RAD60      111546 non-null  float64\n",
      " 22  LC_TEMP_QCL0  111546 non-null  float64\n",
      "dtypes: bool(6), float64(14), int64(3)\n",
      "memory usage: 16.0 MB\n"
     ]
    }
   ],
   "source": [
    "X.info()\n",
    "#y.info()"
   ]
  },
  {
   "attachments": {},
   "cell_type": "markdown",
   "metadata": {},
   "source": [
    "Train test split"
   ]
  },
  {
   "attachments": {},
   "cell_type": "markdown",
   "metadata": {},
   "source": [
    "### Pipelines to fit all models (with cross-validation and hyperparameter tuning)"
   ]
  },
  {
   "attachments": {},
   "cell_type": "markdown",
   "metadata": {},
   "source": [
    "Create pipeline for Ridge with spline transformations"
   ]
  },
  {
   "cell_type": "code",
   "execution_count": null,
   "metadata": {},
   "outputs": [],
   "source": [
    "#preparing transformations and features for the Ridge regression\n",
    "def periodic_spline_transformer(period, n_splines=None, degree=3):\n",
    "    if n_splines is None:\n",
    "        n_splines = period\n",
    "    n_knots = n_splines + 1  # periodic and include_bias is True\n",
    "    return SplineTransformer(\n",
    "        degree=degree,\n",
    "        n_knots=n_knots,\n",
    "        knots=np.linspace(0, period, n_knots).reshape(n_knots, 1),\n",
    "        extrapolation=\"periodic\",\n",
    "        include_bias=True,\n",
    "    )\n",
    "\n",
    "#creating spline transformers\n",
    "cyclic_spline_transformer = ColumnTransformer(\n",
    "    transformers=[\n",
    "        (\"cyclic_month\", periodic_spline_transformer(12, n_splines=6), [\"month\"]),\n",
    "        (\"cyclic_weekday\", periodic_spline_transformer(7, n_splines=3), [\"day_of_week\"]),\n",
    "        (\"cyclic_hour\", periodic_spline_transformer(24, n_splines=12), [\"hour\"]),\n",
    "    ],\n",
    "    #remainder=MinMaxScaler(),\n",
    ")\n",
    "\n",
    "#creating interactions\n",
    "hour_holiday_interaction = make_pipeline(\n",
    "    ColumnTransformer(\n",
    "        [\n",
    "            (\"cyclic_hour\", periodic_spline_transformer(24, n_splines=8), [\"hour\"]),\n",
    "            (\"holiday\", FunctionTransformer(lambda x: x == 1), [\"holiday\"]),\n",
    "        ]\n",
    "    ),\n",
    "    PolynomialFeatures(degree=2, interaction_only=True, include_bias=False),\n",
    ")\n",
    "\n",
    "day_holiday_interaction = make_pipeline(\n",
    "    ColumnTransformer(\n",
    "        [\n",
    "            (\"cyclic_weekday\", periodic_spline_transformer(7, n_splines=3), [\"day_of_week\"]),\n",
    "            (\"holiday\", FunctionTransformer(lambda x: x == 1), [\"holiday\"]),\n",
    "        ]\n",
    "    ),\n",
    "    PolynomialFeatures(degree=2, interaction_only=True, include_bias=False),\n",
    ")\n",
    "\n",
    "hour_weekend_interaction = make_pipeline(\n",
    "    ColumnTransformer(\n",
    "        [\n",
    "            (\"cyclic_hour\", periodic_spline_transformer(24, n_splines=8), [\"hour\"]),\n",
    "            (\"weekend\", FunctionTransformer(lambda x: x == 1), [\"weekend\"]),\n",
    "        ]\n",
    "    ),\n",
    "    PolynomialFeatures(degree=2, interaction_only=True, include_bias=False),\n",
    ")\n",
    "\n",
    "#creating a standardization function for the numeric variables\n",
    "scaling_features=['LC_HUMIDITY','LC_TEMP_QCL0','LC_RAD60','LC_WINDSPEED','LC_WINDDIR','LC_DAILYRAIN','LC_RAININ','LC_RAD','LC_n','LC_DWPTEMP']\n",
    "standardize=ColumnTransformer(\n",
    "    [\n",
    "        (\"standardization\",StandardScaler(),scaling_features)\n",
    "    ],\n",
    ")"
   ]
  },
  {
   "attachments": {},
   "cell_type": "markdown",
   "metadata": {},
   "source": [
    "Evaluate different models and select best performing model"
   ]
  },
  {
   "cell_type": "code",
   "execution_count": null,
   "metadata": {},
   "outputs": [],
   "source": [
    "# Create the pipelines\n",
    "pipelines = [\n",
    "    ('Ridge', Pipeline([\n",
    "    ('features', FeatureUnion([\n",
    "        (\"marginal\", cyclic_spline_transformer),\n",
    "        (\"interactions1\", hour_weekend_interaction),\n",
    "        (\"interactions2\", day_holiday_interaction),\n",
    "        (\"interactions3\", hour_holiday_interaction),\n",
    "        ('standardize', standardize)\n",
    "    ])),\n",
    "    ('model', Ridge())\n",
    "    ])),\n",
    "    ('Gradient Boosting', Pipeline([('model', HistGradientBoostingRegressor(random_state=1234))\n",
    "    ])),\n",
    "    ('XGBoost', Pipeline([('model', XGBRegressor(random_state=1234))\n",
    "    ]))\n",
    "]"
   ]
  },
  {
   "cell_type": "code",
   "execution_count": null,
   "metadata": {},
   "outputs": [],
   "source": [
    "#create object for 5-fold cross validation with shuffled observations\n",
    "cv = KFold(n_splits=5, shuffle=True, random_state=1234)"
   ]
  },
  {
   "cell_type": "code",
   "execution_count": null,
   "metadata": {},
   "outputs": [],
   "source": [
    "def find_best_parameters(X, y):\n",
    "    # Split the data into features (X) and target (y)\n",
    "    \n",
    "    # Define the parameter grids for GridSearchCV\n",
    "    param_grids = {\n",
    "        'Ridge': {'model__alpha': np.logspace(-6, 6, 25)},\n",
    "\n",
    "        'Gradient Boosting': {\n",
    "            'model__learning_rate': [0.2,0.3,0.4],\n",
    "            'model__max_leaf_nodes': [60,80]\n",
    "        },\n",
    "\n",
    "        'XGBoost': {\n",
    "            'model__learning_rate': [0.10, 0.15],\n",
    "            'model__n_estimators': [220,240],\n",
    "            'model__max_depth': [18,19]\n",
    "        }\n",
    "    }\n",
    "    best_pipeline = None\n",
    "    best_params = None\n",
    "    best_score = -float('inf')\n",
    "\n",
    "    # Perform grid search using cross-validation for each pipeline\n",
    "    for pipeline_name, pipeline in pipelines:\n",
    "        param_grid = param_grids[pipeline_name]\n",
    "        scorer = 'neg_mean_squared_error'\n",
    "        #grid_search = GridSearchCV(pipeline, param_grid, cv=5)\n",
    "        grid_search = GridSearchCV(pipeline, param_grid=param_grid, cv=cv, scoring=scorer)\n",
    "        grid_search.fit(X, y)\n",
    "\n",
    "        # Print the best parameters and score for the current pipeline\n",
    "        print(pipeline_name, \"- Best Parameters: \", grid_search.best_params_)\n",
    "        score = -grid_search.best_score_\n",
    "        print(pipeline_name, \"- Best Score: \", score)\n",
    "        print(\"-----\")\n",
    "\n",
    "        if grid_search.best_score_ > best_score:\n",
    "            best_pipeline = pipeline\n",
    "            best_params = grid_search.best_params_\n",
    "            best_score = grid_search.best_score_\n",
    "    \n",
    "    # Set the best parameters to the best pipeline\n",
    "    best_pipeline.set_params(**best_params)\n",
    "\n",
    "    # Return the best pipeline with the best parameters\n",
    "    return best_pipeline\n",
    "final_pipeline=find_best_parameters(X, y)"
   ]
  },
  {
   "cell_type": "code",
   "execution_count": null,
   "metadata": {},
   "outputs": [
    {
     "data": {
      "text/html": [
       "<style>#sk-container-id-2 {color: black;background-color: white;}#sk-container-id-2 pre{padding: 0;}#sk-container-id-2 div.sk-toggleable {background-color: white;}#sk-container-id-2 label.sk-toggleable__label {cursor: pointer;display: block;width: 100%;margin-bottom: 0;padding: 0.3em;box-sizing: border-box;text-align: center;}#sk-container-id-2 label.sk-toggleable__label-arrow:before {content: \"▸\";float: left;margin-right: 0.25em;color: #696969;}#sk-container-id-2 label.sk-toggleable__label-arrow:hover:before {color: black;}#sk-container-id-2 div.sk-estimator:hover label.sk-toggleable__label-arrow:before {color: black;}#sk-container-id-2 div.sk-toggleable__content {max-height: 0;max-width: 0;overflow: hidden;text-align: left;background-color: #f0f8ff;}#sk-container-id-2 div.sk-toggleable__content pre {margin: 0.2em;color: black;border-radius: 0.25em;background-color: #f0f8ff;}#sk-container-id-2 input.sk-toggleable__control:checked~div.sk-toggleable__content {max-height: 200px;max-width: 100%;overflow: auto;}#sk-container-id-2 input.sk-toggleable__control:checked~label.sk-toggleable__label-arrow:before {content: \"▾\";}#sk-container-id-2 div.sk-estimator input.sk-toggleable__control:checked~label.sk-toggleable__label {background-color: #d4ebff;}#sk-container-id-2 div.sk-label input.sk-toggleable__control:checked~label.sk-toggleable__label {background-color: #d4ebff;}#sk-container-id-2 input.sk-hidden--visually {border: 0;clip: rect(1px 1px 1px 1px);clip: rect(1px, 1px, 1px, 1px);height: 1px;margin: -1px;overflow: hidden;padding: 0;position: absolute;width: 1px;}#sk-container-id-2 div.sk-estimator {font-family: monospace;background-color: #f0f8ff;border: 1px dotted black;border-radius: 0.25em;box-sizing: border-box;margin-bottom: 0.5em;}#sk-container-id-2 div.sk-estimator:hover {background-color: #d4ebff;}#sk-container-id-2 div.sk-parallel-item::after {content: \"\";width: 100%;border-bottom: 1px solid gray;flex-grow: 1;}#sk-container-id-2 div.sk-label:hover label.sk-toggleable__label {background-color: #d4ebff;}#sk-container-id-2 div.sk-serial::before {content: \"\";position: absolute;border-left: 1px solid gray;box-sizing: border-box;top: 0;bottom: 0;left: 50%;z-index: 0;}#sk-container-id-2 div.sk-serial {display: flex;flex-direction: column;align-items: center;background-color: white;padding-right: 0.2em;padding-left: 0.2em;position: relative;}#sk-container-id-2 div.sk-item {position: relative;z-index: 1;}#sk-container-id-2 div.sk-parallel {display: flex;align-items: stretch;justify-content: center;background-color: white;position: relative;}#sk-container-id-2 div.sk-item::before, #sk-container-id-2 div.sk-parallel-item::before {content: \"\";position: absolute;border-left: 1px solid gray;box-sizing: border-box;top: 0;bottom: 0;left: 50%;z-index: -1;}#sk-container-id-2 div.sk-parallel-item {display: flex;flex-direction: column;z-index: 1;position: relative;background-color: white;}#sk-container-id-2 div.sk-parallel-item:first-child::after {align-self: flex-end;width: 50%;}#sk-container-id-2 div.sk-parallel-item:last-child::after {align-self: flex-start;width: 50%;}#sk-container-id-2 div.sk-parallel-item:only-child::after {width: 0;}#sk-container-id-2 div.sk-dashed-wrapped {border: 1px dashed gray;margin: 0 0.4em 0.5em 0.4em;box-sizing: border-box;padding-bottom: 0.4em;background-color: white;}#sk-container-id-2 div.sk-label label {font-family: monospace;font-weight: bold;display: inline-block;line-height: 1.2em;}#sk-container-id-2 div.sk-label-container {text-align: center;}#sk-container-id-2 div.sk-container {/* jupyter's `normalize.less` sets `[hidden] { display: none; }` but bootstrap.min.css set `[hidden] { display: none !important; }` so we also need the `!important` here to be able to override the default hidden behavior on the sphinx rendered scikit-learn.org. See: https://github.com/scikit-learn/scikit-learn/issues/21755 */display: inline-block !important;position: relative;}#sk-container-id-2 div.sk-text-repr-fallback {display: none;}</style><div id=\"sk-container-id-2\" class=\"sk-top-container\"><div class=\"sk-text-repr-fallback\"><pre>Pipeline(steps=[(&#x27;model&#x27;,\n",
       "                 XGBRegressor(base_score=None, booster=None, callbacks=None,\n",
       "                              colsample_bylevel=None, colsample_bynode=None,\n",
       "                              colsample_bytree=None, early_stopping_rounds=None,\n",
       "                              enable_categorical=False, eval_metric=None,\n",
       "                              feature_types=None, gamma=None, gpu_id=None,\n",
       "                              grow_policy=None, importance_type=None,\n",
       "                              interaction_constraints=None, learning_rate=0.1,\n",
       "                              max_bin=None, max_cat_threshold=None,\n",
       "                              max_cat_to_onehot=None, max_delta_step=None,\n",
       "                              max_depth=18, max_leaves=None,\n",
       "                              min_child_weight=None, missing=nan,\n",
       "                              monotone_constraints=None, n_estimators=220,\n",
       "                              n_jobs=None, num_parallel_tree=None,\n",
       "                              predictor=None, random_state=None, ...))])</pre><b>In a Jupyter environment, please rerun this cell to show the HTML representation or trust the notebook. <br />On GitHub, the HTML representation is unable to render, please try loading this page with nbviewer.org.</b></div><div class=\"sk-container\" hidden><div class=\"sk-item sk-dashed-wrapped\"><div class=\"sk-label-container\"><div class=\"sk-label sk-toggleable\"><input class=\"sk-toggleable__control sk-hidden--visually\" id=\"sk-estimator-id-3\" type=\"checkbox\" ><label for=\"sk-estimator-id-3\" class=\"sk-toggleable__label sk-toggleable__label-arrow\">Pipeline</label><div class=\"sk-toggleable__content\"><pre>Pipeline(steps=[(&#x27;model&#x27;,\n",
       "                 XGBRegressor(base_score=None, booster=None, callbacks=None,\n",
       "                              colsample_bylevel=None, colsample_bynode=None,\n",
       "                              colsample_bytree=None, early_stopping_rounds=None,\n",
       "                              enable_categorical=False, eval_metric=None,\n",
       "                              feature_types=None, gamma=None, gpu_id=None,\n",
       "                              grow_policy=None, importance_type=None,\n",
       "                              interaction_constraints=None, learning_rate=0.1,\n",
       "                              max_bin=None, max_cat_threshold=None,\n",
       "                              max_cat_to_onehot=None, max_delta_step=None,\n",
       "                              max_depth=18, max_leaves=None,\n",
       "                              min_child_weight=None, missing=nan,\n",
       "                              monotone_constraints=None, n_estimators=220,\n",
       "                              n_jobs=None, num_parallel_tree=None,\n",
       "                              predictor=None, random_state=None, ...))])</pre></div></div></div><div class=\"sk-serial\"><div class=\"sk-item\"><div class=\"sk-estimator sk-toggleable\"><input class=\"sk-toggleable__control sk-hidden--visually\" id=\"sk-estimator-id-4\" type=\"checkbox\" ><label for=\"sk-estimator-id-4\" class=\"sk-toggleable__label sk-toggleable__label-arrow\">XGBRegressor</label><div class=\"sk-toggleable__content\"><pre>XGBRegressor(base_score=None, booster=None, callbacks=None,\n",
       "             colsample_bylevel=None, colsample_bynode=None,\n",
       "             colsample_bytree=None, early_stopping_rounds=None,\n",
       "             enable_categorical=False, eval_metric=None, feature_types=None,\n",
       "             gamma=None, gpu_id=None, grow_policy=None, importance_type=None,\n",
       "             interaction_constraints=None, learning_rate=0.1, max_bin=None,\n",
       "             max_cat_threshold=None, max_cat_to_onehot=None,\n",
       "             max_delta_step=None, max_depth=18, max_leaves=None,\n",
       "             min_child_weight=None, missing=nan, monotone_constraints=None,\n",
       "             n_estimators=220, n_jobs=None, num_parallel_tree=None,\n",
       "             predictor=None, random_state=None, ...)</pre></div></div></div></div></div></div></div>"
      ],
      "text/plain": [
       "Pipeline(steps=[('model',\n",
       "                 XGBRegressor(base_score=None, booster=None, callbacks=None,\n",
       "                              colsample_bylevel=None, colsample_bynode=None,\n",
       "                              colsample_bytree=None, early_stopping_rounds=None,\n",
       "                              enable_categorical=False, eval_metric=None,\n",
       "                              feature_types=None, gamma=None, gpu_id=None,\n",
       "                              grow_policy=None, importance_type=None,\n",
       "                              interaction_constraints=None, learning_rate=0.1,\n",
       "                              max_bin=None, max_cat_threshold=None,\n",
       "                              max_cat_to_onehot=None, max_delta_step=None,\n",
       "                              max_depth=18, max_leaves=None,\n",
       "                              min_child_weight=None, missing=nan,\n",
       "                              monotone_constraints=None, n_estimators=220,\n",
       "                              n_jobs=None, num_parallel_tree=None,\n",
       "                              predictor=None, random_state=None, ...))])"
      ]
     },
     "metadata": {},
     "output_type": "display_data"
    }
   ],
   "source": [
    "final_pipeline"
   ]
  },
  {
   "cell_type": "code",
   "execution_count": null,
   "metadata": {},
   "outputs": [
    {
     "ename": "TypeError",
     "evalue": "The passed model is not callable and cannot be analyzed directly with the given masker! Model: XGBRegressor(base_score=None, booster=None, callbacks=None,\n             colsample_bylevel=None, colsample_bynode=None,\n             colsample_bytree=None, early_stopping_rounds=None,\n             enable_categorical=False, eval_metric=None, feature_types=None,\n             gamma=None, gpu_id=None, grow_policy=None, importance_type=None,\n             interaction_constraints=None, learning_rate=0.1, max_bin=None,\n             max_cat_threshold=None, max_cat_to_onehot=None,\n             max_delta_step=None, max_depth=18, max_leaves=None,\n             min_child_weight=None, missing=nan, monotone_constraints=None,\n             n_estimators=220, n_jobs=None, num_parallel_tree=None,\n             predictor=None, random_state=None, ...)",
     "output_type": "error",
     "traceback": [
      "\u001b[1;31m---------------------------------------------------------------------------\u001b[0m\n",
      "\u001b[1;31mTypeError\u001b[0m                                 Traceback (most recent call last)\n",
      "Cell \u001b[1;32mIn[17], line 27\u001b[0m\n",
      "\u001b[0;32m     24\u001b[0m     \u001b[39mreturn\u001b[39;00m X\u001b[39m.\u001b[39mloc[:, selected_features]\n",
      "\u001b[0;32m     25\u001b[0m     \u001b[39m#return(selected_features)\u001b[39;00m\n",
      "\u001b[1;32m---> 27\u001b[0m X_2\u001b[39m=\u001b[39mget_important_features(X,y,final_pipeline,\u001b[39m0.01\u001b[39;49m)\n",
      "\n",
      "Cell \u001b[1;32mIn[17], line 3\u001b[0m, in \u001b[0;36mget_important_features\u001b[1;34m(X, y, pipeline, cutoff)\u001b[0m\n",
      "\u001b[0;32m      1\u001b[0m \u001b[39mdef\u001b[39;00m \u001b[39mget_important_features\u001b[39m(X,y,pipeline,cutoff):\n",
      "\u001b[0;32m      2\u001b[0m     fit \u001b[39m=\u001b[39m pipeline\u001b[39m.\u001b[39mfit(X,y)\n",
      "\u001b[1;32m----> 3\u001b[0m     explainer \u001b[39m=\u001b[39m shap\u001b[39m.\u001b[39;49mExplainer(fit\u001b[39m.\u001b[39;49msteps[\u001b[39m-\u001b[39;49m\u001b[39m1\u001b[39;49m][\u001b[39m1\u001b[39;49m])\n",
      "\u001b[0;32m      4\u001b[0m     shap_values \u001b[39m=\u001b[39m explainer\u001b[39m.\u001b[39mshap_values(X)\n",
      "\u001b[0;32m      8\u001b[0m     \u001b[39m#summary plot\u001b[39;00m\n",
      "\n",
      "File \u001b[1;32mc:\\Users\\Arthur\\miniconda3\\envs\\course_mda\\lib\\site-packages\\shap\\explainers\\_explainer.py:173\u001b[0m, in \u001b[0;36mExplainer.__init__\u001b[1;34m(self, model, masker, link, algorithm, output_names, feature_names, linearize_link, seed, **kwargs)\u001b[0m\n",
      "\u001b[0;32m    169\u001b[0m             algorithm \u001b[39m=\u001b[39m \u001b[39m\"\u001b[39m\u001b[39mpermutation\u001b[39m\u001b[39m\"\u001b[39m\n",
      "\u001b[0;32m    171\u001b[0m     \u001b[39m# if we get here then we don't know how to handle what was given to us\u001b[39;00m\n",
      "\u001b[0;32m    172\u001b[0m     \u001b[39melse\u001b[39;00m:\n",
      "\u001b[1;32m--> 173\u001b[0m         \u001b[39mraise\u001b[39;00m \u001b[39mTypeError\u001b[39;00m(\u001b[39m\"\u001b[39m\u001b[39mThe passed model is not callable and cannot be analyzed directly with the given masker! Model: \u001b[39m\u001b[39m\"\u001b[39m \u001b[39m+\u001b[39m \u001b[39mstr\u001b[39m(model))\n",
      "\u001b[0;32m    175\u001b[0m \u001b[39m# build the right subclass\u001b[39;00m\n",
      "\u001b[0;32m    176\u001b[0m \u001b[39mif\u001b[39;00m algorithm \u001b[39m==\u001b[39m \u001b[39m\"\u001b[39m\u001b[39mexact\u001b[39m\u001b[39m\"\u001b[39m:\n",
      "\n",
      "\u001b[1;31mTypeError\u001b[0m: The passed model is not callable and cannot be analyzed directly with the given masker! Model: XGBRegressor(base_score=None, booster=None, callbacks=None,\n",
      "             colsample_bylevel=None, colsample_bynode=None,\n",
      "             colsample_bytree=None, early_stopping_rounds=None,\n",
      "             enable_categorical=False, eval_metric=None, feature_types=None,\n",
      "             gamma=None, gpu_id=None, grow_policy=None, importance_type=None,\n",
      "             interaction_constraints=None, learning_rate=0.1, max_bin=None,\n",
      "             max_cat_threshold=None, max_cat_to_onehot=None,\n",
      "             max_delta_step=None, max_depth=18, max_leaves=None,\n",
      "             min_child_weight=None, missing=nan, monotone_constraints=None,\n",
      "             n_estimators=220, n_jobs=None, num_parallel_tree=None,\n",
      "             predictor=None, random_state=None, ...)"
     ]
    }
   ],
   "source": [
    "def get_important_features(X,y,pipeline,cutoff):\n",
    "#    pipeline.fit(X,y)\n",
    "    explainer = shap.Explainer(pipeline.steps[-1][1])\n",
    "    shap_values = explainer.shap_values(X)\n",
    "\n",
    "    \n",
    "\n",
    "    #summary plot\n",
    "    shap.summary_plot(shap_values, X)\n",
    "    #bar chart\n",
    "    shap.summary_plot(shap_values, X, plot_type=\"bar\")\n",
    "    #explain a single prediction: see https://www.kaggle.com/code/dansbecker/shap-values\n",
    "    shap.initjs()\n",
    "    shap.force_plot(explainer.expected_value, shap_values[0,:], X.iloc[0,:])\n",
    "    # explain more predictions: don't really know how this works\n",
    "    #shap.force_plot(explainer.expected_value, shap_values[:500,:], X.iloc[:500,:])\n",
    "   \n",
    "\n",
    "    # Calculate average absolute Shapley value for each feature\n",
    "    avg_shap_values = pd.DataFrame(shap_values, columns=X.columns).abs().mean()\n",
    "    sorted_features = avg_shap_values.sort_values(ascending=False)\n",
    "    # Select top-k features based on the cutoff point\n",
    "    selected_features = sorted_features[sorted_features >= cutoff].index.tolist()\n",
    "    return X.loc[:, selected_features]\n",
    "    #return(selected_features)\n",
    "\n",
    "X_2=get_important_features(X,y,final_pipeline,0.01)\n"
   ]
  },
  {
   "cell_type": "code",
   "execution_count": null,
   "metadata": {},
   "outputs": [
    {
     "data": {
      "text/html": [
       "<div>\n",
       "<style scoped>\n",
       "    .dataframe tbody tr th:only-of-type {\n",
       "        vertical-align: middle;\n",
       "    }\n",
       "\n",
       "    .dataframe tbody tr th {\n",
       "        vertical-align: top;\n",
       "    }\n",
       "\n",
       "    .dataframe thead th {\n",
       "        text-align: right;\n",
       "    }\n",
       "</style>\n",
       "<table border=\"1\" class=\"dataframe\">\n",
       "  <thead>\n",
       "    <tr style=\"text-align: right;\">\n",
       "      <th></th>\n",
       "      <th>hour</th>\n",
       "      <th>day_of_week</th>\n",
       "      <th>holiday</th>\n",
       "      <th>255441</th>\n",
       "      <th>255440</th>\n",
       "      <th>month</th>\n",
       "      <th>255439</th>\n",
       "      <th>exam_period</th>\n",
       "      <th>LC_TEMP_QCL0</th>\n",
       "      <th>weekend</th>\n",
       "      <th>LC_RAD60</th>\n",
       "      <th>LC_TEMP_QCL3</th>\n",
       "      <th>LC_RAD</th>\n",
       "      <th>LC_HUMIDITY</th>\n",
       "    </tr>\n",
       "  </thead>\n",
       "  <tbody>\n",
       "    <tr>\n",
       "      <th>0</th>\n",
       "      <td>6</td>\n",
       "      <td>5</td>\n",
       "      <td>True</td>\n",
       "      <td>True</td>\n",
       "      <td>False</td>\n",
       "      <td>1</td>\n",
       "      <td>False</td>\n",
       "      <td>False</td>\n",
       "      <td>13.28</td>\n",
       "      <td>True</td>\n",
       "      <td>0.0</td>\n",
       "      <td>11.54982</td>\n",
       "      <td>0.0</td>\n",
       "      <td>91.0</td>\n",
       "    </tr>\n",
       "    <tr>\n",
       "      <th>1</th>\n",
       "      <td>6</td>\n",
       "      <td>5</td>\n",
       "      <td>True</td>\n",
       "      <td>True</td>\n",
       "      <td>False</td>\n",
       "      <td>1</td>\n",
       "      <td>False</td>\n",
       "      <td>False</td>\n",
       "      <td>13.28</td>\n",
       "      <td>True</td>\n",
       "      <td>0.0</td>\n",
       "      <td>11.52837</td>\n",
       "      <td>0.0</td>\n",
       "      <td>90.0</td>\n",
       "    </tr>\n",
       "    <tr>\n",
       "      <th>2</th>\n",
       "      <td>6</td>\n",
       "      <td>5</td>\n",
       "      <td>True</td>\n",
       "      <td>True</td>\n",
       "      <td>False</td>\n",
       "      <td>1</td>\n",
       "      <td>False</td>\n",
       "      <td>False</td>\n",
       "      <td>13.28</td>\n",
       "      <td>True</td>\n",
       "      <td>0.0</td>\n",
       "      <td>11.52966</td>\n",
       "      <td>0.0</td>\n",
       "      <td>90.0</td>\n",
       "    </tr>\n",
       "    <tr>\n",
       "      <th>3</th>\n",
       "      <td>6</td>\n",
       "      <td>5</td>\n",
       "      <td>True</td>\n",
       "      <td>True</td>\n",
       "      <td>False</td>\n",
       "      <td>1</td>\n",
       "      <td>False</td>\n",
       "      <td>False</td>\n",
       "      <td>13.28</td>\n",
       "      <td>True</td>\n",
       "      <td>0.0</td>\n",
       "      <td>11.55408</td>\n",
       "      <td>0.0</td>\n",
       "      <td>90.0</td>\n",
       "    </tr>\n",
       "    <tr>\n",
       "      <th>4</th>\n",
       "      <td>6</td>\n",
       "      <td>5</td>\n",
       "      <td>True</td>\n",
       "      <td>True</td>\n",
       "      <td>False</td>\n",
       "      <td>1</td>\n",
       "      <td>False</td>\n",
       "      <td>False</td>\n",
       "      <td>13.28</td>\n",
       "      <td>True</td>\n",
       "      <td>0.0</td>\n",
       "      <td>11.72889</td>\n",
       "      <td>0.0</td>\n",
       "      <td>90.0</td>\n",
       "    </tr>\n",
       "  </tbody>\n",
       "</table>\n",
       "</div>"
      ],
      "text/plain": [
       "   hour  day_of_week  holiday  255441  255440  month  255439  exam_period  \\\n",
       "0     6            5     True    True   False      1   False        False   \n",
       "1     6            5     True    True   False      1   False        False   \n",
       "2     6            5     True    True   False      1   False        False   \n",
       "3     6            5     True    True   False      1   False        False   \n",
       "4     6            5     True    True   False      1   False        False   \n",
       "\n",
       "   LC_TEMP_QCL0  weekend  LC_RAD60  LC_TEMP_QCL3  LC_RAD  LC_HUMIDITY  \n",
       "0         13.28     True       0.0      11.54982     0.0         91.0  \n",
       "1         13.28     True       0.0      11.52837     0.0         90.0  \n",
       "2         13.28     True       0.0      11.52966     0.0         90.0  \n",
       "3         13.28     True       0.0      11.55408     0.0         90.0  \n",
       "4         13.28     True       0.0      11.72889     0.0         90.0  "
      ]
     },
     "metadata": {},
     "output_type": "display_data"
    }
   ],
   "source": [
    "X_2.head()"
   ]
  },
  {
   "attachments": {},
   "cell_type": "markdown",
   "metadata": {},
   "source": [
    "Once shapley works, we should implement X_2 in cells below"
   ]
  },
  {
   "cell_type": "code",
   "execution_count": null,
   "metadata": {},
   "outputs": [
    {
     "name": "stdout",
     "output_type": "stream",
     "text": [
      "RMSE = 1.516453780710368\n"
     ]
    }
   ],
   "source": [
    "#create test sets\n",
    "delayed_df_test, X_test, y_test = delay_noise_weather(final_df_last20)\n",
    "\n",
    "#fit best model on train and validation data\n",
    "final_pipeline.fit(X, y)\n",
    "\n",
    "#create predictions for test range\n",
    "best_model_predictions = final_pipeline.predict(X_test)\n",
    "\n",
    "# Calculate the mean squared error\n",
    "mse = mean_squared_error(y_test, best_model_predictions)\n",
    "\n",
    "# Calculate the root mean squared error\n",
    "rmse = np.sqrt(mse)\n",
    "print(f\"RMSE = {rmse}\")\n",
    "\n"
   ]
  },
  {
   "attachments": {},
   "cell_type": "markdown",
   "metadata": {},
   "source": [
    "### Visualization of results of final model"
   ]
  },
  {
   "cell_type": "code",
   "execution_count": null,
   "metadata": {},
   "outputs": [
    {
     "data": {
      "image/png": "[encoded data removed]",
      "text/plain": [
       "<Figure size 1200x400 with 1 Axes>"
      ]
     },
     "metadata": {},
     "output_type": "display_data"
    }
   ],
   "source": [
    "#visualization of model predictions, trained on full data\n",
    "\n",
    "last_hours = slice(-1000, None)\n",
    "fig, ax = plt.subplots(figsize=(12, 4))\n",
    "fig.suptitle(\"Best model predictions\")\n",
    "ax.plot(\n",
    "    y_test.values[last_hours],\n",
    "    \"x-\",\n",
    "    alpha=0.2,\n",
    "    label=\"Actual noise\",\n",
    "    color=\"black\",\n",
    ")\n",
    "ax.plot(best_model_predictions[last_hours], \"x-\", label=\"predictions\")\n",
    "_ = ax.legend()\n"
   ]
  },
  {
   "cell_type": "code",
   "execution_count": null,
   "metadata": {},
   "outputs": [
    {
     "data": {
      "image/png": "[encoded data removed]",
      "text/plain": [
       "<Figure size 1200x400 with 3 Axes>"
      ]
     },
     "metadata": {},
     "output_type": "display_data"
    }
   ],
   "source": [
    "fig, axes = plt.subplots(ncols=3, figsize=(12, 4), sharey=True)\n",
    "fig.suptitle(\" \")\n",
    "predictions = [\n",
    "    best_model_predictions,\n",
    "]\n",
    "labels = [\n",
    "    \"Best model predictions\",\n",
    "]\n",
    "for ax, pred, label in zip(axes, predictions, labels):\n",
    "    ax.scatter(y_test.values, pred, alpha=0.3, label=label)\n",
    "    ax.plot([0, 80], [0, 80], \"--\", label=\"Perfect model\")\n",
    "    ax.set(\n",
    "        xlim=(0, 80),\n",
    "        ylim=(0, 80),\n",
    "        xlabel=\"True noise\",\n",
    "        ylabel=\"Predicted noise\",\n",
    "    )\n",
    "    ax.legend()\n",
    "\n",
    "plt.show()"
   ]
  },
  {
   "attachments": {},
   "cell_type": "markdown",
   "metadata": {},
   "source": [
    "Shapley values"
   ]
  },
  {
   "cell_type": "code",
   "execution_count": null,
   "metadata": {},
   "outputs": [],
   "source": []
  },
  {
   "attachments": {},
   "cell_type": "markdown",
   "metadata": {},
   "source": [
    "Add timestamp to predictions"
   ]
  },
  {
   "cell_type": "code",
   "execution_count": null,
   "metadata": {},
   "outputs": [],
   "source": [
    "delayed_df_test_timestamp = pd.DataFrame(delayed_df_test['result_timestamp'])\n",
    "delayed_df_test_timestamp = delayed_df_test_timestamp.reset_index()\n",
    "best_model_predictions = pd.DataFrame(best_model_predictions, columns=['predictions'])\n",
    "best_model_predictions = best_model_predictions.reset_index()\n",
    "predictions_timestamped = pd.concat([delayed_df_test_timestamp, best_model_predictions], axis = 1)\n"
   ]
  },
  {
   "cell_type": "code",
   "execution_count": null,
   "metadata": {},
   "outputs": [
    {
     "name": "stdout",
     "output_type": "stream",
     "text": [
      "         index    result_timestamp\n",
      "0            0 2022-04-06 17:40:00\n",
      "1            1 2022-04-06 17:50:00\n",
      "2            2 2022-04-06 17:50:00\n",
      "3            3 2022-04-06 17:50:00\n",
      "4            4 2022-04-06 18:00:00\n",
      "...        ...                 ...\n",
      "106536  106687 2022-12-31 23:10:00\n",
      "106537  106688 2022-12-31 23:20:00\n",
      "106538  106689 2022-12-31 23:30:00\n",
      "106539  106690 2022-12-31 23:40:00\n",
      "106540  106691 2022-12-31 23:50:00\n",
      "\n",
      "[106541 rows x 2 columns]\n"
     ]
    }
   ],
   "source": [
    "print(delayed_df_test_timestamp)"
   ]
  },
  {
   "cell_type": "code",
   "execution_count": null,
   "metadata": {},
   "outputs": [
    {
     "name": "stdout",
     "output_type": "stream",
     "text": [
      "106541\n",
      "106541\n",
      "106541\n"
     ]
    }
   ],
   "source": [
    "print(len(best_model_predictions))\n",
    "print(len(delayed_df_test['result_timestamp']))\n",
    "print(len(predictions_timestamped['result_timestamp']))"
   ]
  },
  {
   "cell_type": "code",
   "execution_count": null,
   "metadata": {},
   "outputs": [
    {
     "data": {
      "text/plain": [
       "index               0\n",
       "result_timestamp    0\n",
       "index               0\n",
       "predictions         0\n",
       "dtype: int64"
      ]
     },
     "metadata": {},
     "output_type": "display_data"
    }
   ],
   "source": [
    "predictions_timestamped.isna().sum()"
   ]
  },
  {
   "cell_type": "code",
   "execution_count": null,
   "metadata": {},
   "outputs": [
    {
     "data": {
      "text/html": [
       "<div>\n",
       "<style scoped>\n",
       "    .dataframe tbody tr th:only-of-type {\n",
       "        vertical-align: middle;\n",
       "    }\n",
       "\n",
       "    .dataframe tbody tr th {\n",
       "        vertical-align: top;\n",
       "    }\n",
       "\n",
       "    .dataframe thead th {\n",
       "        text-align: right;\n",
       "    }\n",
       "</style>\n",
       "<table border=\"1\" class=\"dataframe\">\n",
       "  <thead>\n",
       "    <tr style=\"text-align: right;\">\n",
       "      <th></th>\n",
       "      <th>index</th>\n",
       "      <th>result_timestamp</th>\n",
       "      <th>index</th>\n",
       "      <th>predictions</th>\n",
       "    </tr>\n",
       "  </thead>\n",
       "  <tbody>\n",
       "    <tr>\n",
       "      <th>0</th>\n",
       "      <td>0</td>\n",
       "      <td>2022-04-06 17:40:00</td>\n",
       "      <td>0</td>\n",
       "      <td>55.896908</td>\n",
       "    </tr>\n",
       "    <tr>\n",
       "      <th>1</th>\n",
       "      <td>1</td>\n",
       "      <td>2022-04-06 17:50:00</td>\n",
       "      <td>1</td>\n",
       "      <td>53.736359</td>\n",
       "    </tr>\n",
       "    <tr>\n",
       "      <th>2</th>\n",
       "      <td>2</td>\n",
       "      <td>2022-04-06 17:50:00</td>\n",
       "      <td>2</td>\n",
       "      <td>54.909611</td>\n",
       "    </tr>\n",
       "    <tr>\n",
       "      <th>3</th>\n",
       "      <td>3</td>\n",
       "      <td>2022-04-06 17:50:00</td>\n",
       "      <td>3</td>\n",
       "      <td>56.083450</td>\n",
       "    </tr>\n",
       "    <tr>\n",
       "      <th>4</th>\n",
       "      <td>4</td>\n",
       "      <td>2022-04-06 18:00:00</td>\n",
       "      <td>4</td>\n",
       "      <td>54.668110</td>\n",
       "    </tr>\n",
       "    <tr>\n",
       "      <th>...</th>\n",
       "      <td>...</td>\n",
       "      <td>...</td>\n",
       "      <td>...</td>\n",
       "      <td>...</td>\n",
       "    </tr>\n",
       "    <tr>\n",
       "      <th>106536</th>\n",
       "      <td>106687</td>\n",
       "      <td>2022-12-31 23:10:00</td>\n",
       "      <td>106536</td>\n",
       "      <td>52.664200</td>\n",
       "    </tr>\n",
       "    <tr>\n",
       "      <th>106537</th>\n",
       "      <td>106688</td>\n",
       "      <td>2022-12-31 23:20:00</td>\n",
       "      <td>106537</td>\n",
       "      <td>52.645420</td>\n",
       "    </tr>\n",
       "    <tr>\n",
       "      <th>106538</th>\n",
       "      <td>106689</td>\n",
       "      <td>2022-12-31 23:30:00</td>\n",
       "      <td>106538</td>\n",
       "      <td>52.766701</td>\n",
       "    </tr>\n",
       "    <tr>\n",
       "      <th>106539</th>\n",
       "      <td>106690</td>\n",
       "      <td>2022-12-31 23:40:00</td>\n",
       "      <td>106539</td>\n",
       "      <td>52.480705</td>\n",
       "    </tr>\n",
       "    <tr>\n",
       "      <th>106540</th>\n",
       "      <td>106691</td>\n",
       "      <td>2022-12-31 23:50:00</td>\n",
       "      <td>106540</td>\n",
       "      <td>52.157730</td>\n",
       "    </tr>\n",
       "  </tbody>\n",
       "</table>\n",
       "<p>106541 rows × 4 columns</p>\n",
       "</div>"
      ],
      "text/plain": [
       "         index    result_timestamp   index  predictions\n",
       "0            0 2022-04-06 17:40:00       0    55.896908\n",
       "1            1 2022-04-06 17:50:00       1    53.736359\n",
       "2            2 2022-04-06 17:50:00       2    54.909611\n",
       "3            3 2022-04-06 17:50:00       3    56.083450\n",
       "4            4 2022-04-06 18:00:00       4    54.668110\n",
       "...        ...                 ...     ...          ...\n",
       "106536  106687 2022-12-31 23:10:00  106536    52.664200\n",
       "106537  106688 2022-12-31 23:20:00  106537    52.645420\n",
       "106538  106689 2022-12-31 23:30:00  106538    52.766701\n",
       "106539  106690 2022-12-31 23:40:00  106539    52.480705\n",
       "106540  106691 2022-12-31 23:50:00  106540    52.157730\n",
       "\n",
       "[106541 rows x 4 columns]"
      ]
     },
     "metadata": {},
     "output_type": "display_data"
    }
   ],
   "source": [
    "predictions_timestamped"
   ]
  },
  {
   "cell_type": "code",
   "execution_count": null,
   "metadata": {},
   "outputs": [],
   "source": [
    "predictions_timestamped = predictions_timestamped.drop('index',axis=1)"
   ]
  },
  {
   "cell_type": "code",
   "execution_count": null,
   "metadata": {},
   "outputs": [
    {
     "data": {
      "text/html": [
       "<div>\n",
       "<style scoped>\n",
       "    .dataframe tbody tr th:only-of-type {\n",
       "        vertical-align: middle;\n",
       "    }\n",
       "\n",
       "    .dataframe tbody tr th {\n",
       "        vertical-align: top;\n",
       "    }\n",
       "\n",
       "    .dataframe thead th {\n",
       "        text-align: right;\n",
       "    }\n",
       "</style>\n",
       "<table border=\"1\" class=\"dataframe\">\n",
       "  <thead>\n",
       "    <tr style=\"text-align: right;\">\n",
       "      <th></th>\n",
       "      <th>result_timestamp</th>\n",
       "      <th>predictions</th>\n",
       "    </tr>\n",
       "  </thead>\n",
       "  <tbody>\n",
       "    <tr>\n",
       "      <th>0</th>\n",
       "      <td>2022-04-06 17:40:00</td>\n",
       "      <td>55.896908</td>\n",
       "    </tr>\n",
       "    <tr>\n",
       "      <th>1</th>\n",
       "      <td>2022-04-06 17:50:00</td>\n",
       "      <td>53.736359</td>\n",
       "    </tr>\n",
       "    <tr>\n",
       "      <th>2</th>\n",
       "      <td>2022-04-06 17:50:00</td>\n",
       "      <td>54.909611</td>\n",
       "    </tr>\n",
       "    <tr>\n",
       "      <th>3</th>\n",
       "      <td>2022-04-06 17:50:00</td>\n",
       "      <td>56.083450</td>\n",
       "    </tr>\n",
       "    <tr>\n",
       "      <th>4</th>\n",
       "      <td>2022-04-06 18:00:00</td>\n",
       "      <td>54.668110</td>\n",
       "    </tr>\n",
       "    <tr>\n",
       "      <th>...</th>\n",
       "      <td>...</td>\n",
       "      <td>...</td>\n",
       "    </tr>\n",
       "    <tr>\n",
       "      <th>106536</th>\n",
       "      <td>2022-12-31 23:10:00</td>\n",
       "      <td>52.664200</td>\n",
       "    </tr>\n",
       "    <tr>\n",
       "      <th>106537</th>\n",
       "      <td>2022-12-31 23:20:00</td>\n",
       "      <td>52.645420</td>\n",
       "    </tr>\n",
       "    <tr>\n",
       "      <th>106538</th>\n",
       "      <td>2022-12-31 23:30:00</td>\n",
       "      <td>52.766701</td>\n",
       "    </tr>\n",
       "    <tr>\n",
       "      <th>106539</th>\n",
       "      <td>2022-12-31 23:40:00</td>\n",
       "      <td>52.480705</td>\n",
       "    </tr>\n",
       "    <tr>\n",
       "      <th>106540</th>\n",
       "      <td>2022-12-31 23:50:00</td>\n",
       "      <td>52.157730</td>\n",
       "    </tr>\n",
       "  </tbody>\n",
       "</table>\n",
       "<p>106541 rows × 2 columns</p>\n",
       "</div>"
      ],
      "text/plain": [
       "          result_timestamp  predictions\n",
       "0      2022-04-06 17:40:00    55.896908\n",
       "1      2022-04-06 17:50:00    53.736359\n",
       "2      2022-04-06 17:50:00    54.909611\n",
       "3      2022-04-06 17:50:00    56.083450\n",
       "4      2022-04-06 18:00:00    54.668110\n",
       "...                    ...          ...\n",
       "106536 2022-12-31 23:10:00    52.664200\n",
       "106537 2022-12-31 23:20:00    52.645420\n",
       "106538 2022-12-31 23:30:00    52.766701\n",
       "106539 2022-12-31 23:40:00    52.480705\n",
       "106540 2022-12-31 23:50:00    52.157730\n",
       "\n",
       "[106541 rows x 2 columns]"
      ]
     },
     "metadata": {},
     "output_type": "display_data"
    }
   ],
   "source": [
    "predictions_timestamped"
   ]
  },
  {
   "cell_type": "code",
   "execution_count": null,
   "metadata": {},
   "outputs": [],
   "source": [
    "predictions_timestamped.to_csv('predictions_timestamped.csv', index=False)"
   ]
  },
  {
   "attachments": {},
   "cell_type": "markdown",
   "metadata": {},
   "source": [
    "Shapley values"
   ]
  },
  {
   "cell_type": "code",
   "execution_count": null,
   "metadata": {},
   "outputs": [],
   "source": []
  }
 ],
 "metadata": {
  "kernelspec": {
   "display_name": "course_mda",
   "language": "python",
   "name": "python3"
  },
  "language_info": {
   "codemirror_mode": {
    "name": "ipython",
    "version": 3
   },
   "file_extension": ".py",
   "mimetype": "text/x-python",
   "name": "python",
   "nbconvert_exporter": "python",
   "pygments_lexer": "ipython3",
   "version": "3.9.5"
  },
  "orig_nbformat": 4
 },
 "nbformat": 4,
 "nbformat_minor": 2
}
