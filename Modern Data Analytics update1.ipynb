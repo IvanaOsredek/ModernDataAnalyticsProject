{
 "cells": [
  {
   "cell_type": "code",
   "execution_count": 121,
   "metadata": {},
   "outputs": [],
   "source": [
    "import numpy as np\n",
    "import pandas as pd\n",
    "from datetime import datetime\n",
    "import os\n",
    "import sklearn.model_selection\n",
    "from sklearn.model_selection import TimeSeriesSplit\n",
    "from sklearn import*\n",
    "from sklearn.preprocessing import OneHotEncoder\n",
    "from sklearn.preprocessing import MinMaxScaler\n",
    "from sklearn.linear_model import RidgeCV\n",
    "from sklearn.pipeline import make_pipeline\n",
    "from sklearn.linear_model import RidgeCV\n",
    "from sklearn.compose import ColumnTransformer\n",
    "from sklearn.preprocessing import SplineTransformer\n",
    "from sklearn.preprocessing import FunctionTransformer\n",
    "import matplotlib.pyplot as plt\n",
    "\n",
    "\n",
    "\n",
    "from sklearn.model_selection import cross_validate\n",
    "\n",
    "import numpy as np"
   ]
  },
  {
   "cell_type": "code",
   "execution_count": 48,
   "metadata": {},
   "outputs": [],
   "source": [
    "df=pd.read_csv(\"csv_results_40_255439_mp-01-naamsestraat-35-maxim.csv\", sep=\";\")\n",
    "variables_keep=[\"result_timestamp\",\"laf005_per_hour\"]\n",
    "df=df[variables_keep]"
   ]
  },
  {
   "cell_type": "code",
   "execution_count": 49,
   "metadata": {},
   "outputs": [
    {
     "data": {
      "text/plain": [
       "103.2"
      ]
     },
     "execution_count": 49,
     "metadata": {},
     "output_type": "execute_result"
    }
   ],
   "source": [
    "df[\"laf005_per_hour\"].max()"
   ]
  },
  {
   "cell_type": "code",
   "execution_count": 50,
   "metadata": {},
   "outputs": [],
   "source": [
    "y=df[\"laf005_per_hour\"]/df[\"laf005_per_hour\"].max()\n",
    "X = df.drop(\"laf005_per_hour\", axis=\"columns\")\n"
   ]
  },
  {
   "attachments": {},
   "cell_type": "markdown",
   "metadata": {},
   "source": [
    "Feature engineering"
   ]
  },
  {
   "cell_type": "code",
   "execution_count": 51,
   "metadata": {},
   "outputs": [],
   "source": [
    "def date_feature_engineering(df,timestamp_column):\n",
    "    \n",
    "    df[timestamp_column]=pd.to_datetime(df[timestamp_column])\n",
    "    df[\"date\"]=df[timestamp_column].dt.date\n",
    "    df[\"year\"]=df[timestamp_column].dt.year\n",
    "    df[\"month\"]=df[timestamp_column].dt.month\n",
    "    df[\"day\"]=df[timestamp_column].dt.day_of_week\n",
    "    df[\"hour\"]=df[timestamp_column].dt.hour\n",
    "\n",
    "    return(df)\n",
    "X=date_feature_engineering(X,\"result_timestamp\")\n"
   ]
  },
  {
   "cell_type": "code",
   "execution_count": 52,
   "metadata": {},
   "outputs": [
    {
     "name": "stdout",
     "output_type": "stream",
     "text": [
      "4590\n"
     ]
    }
   ],
   "source": [
    "def dates_1day_index(date,list_of_dates):\n",
    "    list_of_dates=list_of_dates.append(pd.date_range(end = datetime.strptime( date, \"%Y-%m-%d %H:%M:%S\"), periods=24,freq = \"H\"))\n",
    "    return(list_of_dates)\n",
    "    \n",
    "def dates_moredays_index(dates_pair, list_of_dates):\n",
    "    list_of_dates=list_of_dates.append(pd.date_range(dates_pair[0], dates_pair[1], freq='H'))\n",
    "    return(list_of_dates)\n",
    "    \n",
    "def holiday_column(df):\n",
    "    #create a date index\n",
    "    date_index=pd.date_range(end = datetime.strptime(\"2022-01-01\", \"%Y-%m-%d\"), periods = 1)\n",
    "    #add holidays that only last one day to te list\n",
    "    dates_1day=[\"2022-05-01 00:00:00\",\"2022-05-26 00:00:00\",\"2022-11-11 00:00:00\"]    #add holidays that last longer than one day to the list\n",
    "    dates_moredays=[[\"2022-01-01 00:00:00\", \"2022-02-13 00:00:00\"],[\"2022-04-02 00:00:00\",\"2022-04-18 00:00:00\"],[\"2022-05-28 00:00:00\",\"2022-09-26 00:00:00\"],[\"2022-11-01 00:00:00\", \"2022-11-02 00:00:00\"],[\"2022-12-24 00:00:00\",\"2022-12-31 00:00:00\"]]\n",
    "\n",
    "    for item in dates_1day:\n",
    "        date_index=dates_1day_index(item,date_index)\n",
    "\n",
    "    for item in dates_moredays:\n",
    "        date_index=dates_moredays_index(item, date_index)\n",
    "    \n",
    "\n",
    "    is_holiday=lambda x: 1 if  x  in date_index else 0\n",
    "    df[\"holiday\"]=df[\"result_timestamp\"].apply(is_holiday)\n",
    "    print(len(date_index))\n",
    "\n",
    "    return(df)\n",
    "\n",
    "X=holiday_column(X)\n",
    "    \n",
    "\n"
   ]
  },
  {
   "cell_type": "code",
   "execution_count": 53,
   "metadata": {},
   "outputs": [],
   "source": [
    "def weekend_column(df):\n",
    "    is_weekend=lambda x: 1 if x==5 or x==6 else 0\n",
    "    df[\"weekend\"]=df[\"day\"].apply(is_weekend)\n",
    "    return(df)\n",
    "X=weekend_column(X)"
   ]
  },
  {
   "cell_type": "code",
   "execution_count": 72,
   "metadata": {},
   "outputs": [],
   "source": [
    "X=X.drop(['date','result_timestamp','year'],axis=\"columns\")"
   ]
  },
  {
   "attachments": {},
   "cell_type": "markdown",
   "metadata": {},
   "source": [
    "Splitting dataset"
   ]
  },
  {
   "cell_type": "code",
   "execution_count": 73,
   "metadata": {},
   "outputs": [],
   "source": [
    "from sklearn.model_selection import TimeSeriesSplit\n",
    "\n",
    "ts_cv = TimeSeriesSplit(\n",
    "    n_splits=5,\n",
    "    gap=48,\n",
    "    max_train_size=10000,\n",
    "    test_size=1000,\n",
    ")"
   ]
  },
  {
   "cell_type": "code",
   "execution_count": 74,
   "metadata": {},
   "outputs": [],
   "source": [
    "all_splits = list(ts_cv.split(X, y))\n"
   ]
  },
  {
   "cell_type": "code",
   "execution_count": 75,
   "metadata": {},
   "outputs": [
    {
     "data": {
      "text/html": [
       "<div>\n",
       "<style scoped>\n",
       "    .dataframe tbody tr th:only-of-type {\n",
       "        vertical-align: middle;\n",
       "    }\n",
       "\n",
       "    .dataframe tbody tr th {\n",
       "        vertical-align: top;\n",
       "    }\n",
       "\n",
       "    .dataframe thead th {\n",
       "        text-align: right;\n",
       "    }\n",
       "</style>\n",
       "<table border=\"1\" class=\"dataframe\">\n",
       "  <thead>\n",
       "    <tr style=\"text-align: right;\">\n",
       "      <th></th>\n",
       "      <th>month</th>\n",
       "      <th>day</th>\n",
       "      <th>hour</th>\n",
       "      <th>holiday</th>\n",
       "      <th>weekend</th>\n",
       "    </tr>\n",
       "  </thead>\n",
       "  <tbody>\n",
       "    <tr>\n",
       "      <th>1428</th>\n",
       "      <td>6</td>\n",
       "      <td>6</td>\n",
       "      <td>2</td>\n",
       "      <td>1</td>\n",
       "      <td>1</td>\n",
       "    </tr>\n",
       "    <tr>\n",
       "      <th>1429</th>\n",
       "      <td>6</td>\n",
       "      <td>6</td>\n",
       "      <td>3</td>\n",
       "      <td>1</td>\n",
       "      <td>1</td>\n",
       "    </tr>\n",
       "    <tr>\n",
       "      <th>1430</th>\n",
       "      <td>6</td>\n",
       "      <td>6</td>\n",
       "      <td>4</td>\n",
       "      <td>1</td>\n",
       "      <td>1</td>\n",
       "    </tr>\n",
       "    <tr>\n",
       "      <th>1431</th>\n",
       "      <td>6</td>\n",
       "      <td>6</td>\n",
       "      <td>5</td>\n",
       "      <td>1</td>\n",
       "      <td>1</td>\n",
       "    </tr>\n",
       "    <tr>\n",
       "      <th>1432</th>\n",
       "      <td>6</td>\n",
       "      <td>6</td>\n",
       "      <td>6</td>\n",
       "      <td>1</td>\n",
       "      <td>1</td>\n",
       "    </tr>\n",
       "    <tr>\n",
       "      <th>...</th>\n",
       "      <td>...</td>\n",
       "      <td>...</td>\n",
       "      <td>...</td>\n",
       "      <td>...</td>\n",
       "      <td>...</td>\n",
       "    </tr>\n",
       "    <tr>\n",
       "      <th>2423</th>\n",
       "      <td>6</td>\n",
       "      <td>3</td>\n",
       "      <td>13</td>\n",
       "      <td>1</td>\n",
       "      <td>0</td>\n",
       "    </tr>\n",
       "    <tr>\n",
       "      <th>2424</th>\n",
       "      <td>6</td>\n",
       "      <td>3</td>\n",
       "      <td>14</td>\n",
       "      <td>1</td>\n",
       "      <td>0</td>\n",
       "    </tr>\n",
       "    <tr>\n",
       "      <th>2425</th>\n",
       "      <td>6</td>\n",
       "      <td>3</td>\n",
       "      <td>15</td>\n",
       "      <td>1</td>\n",
       "      <td>0</td>\n",
       "    </tr>\n",
       "    <tr>\n",
       "      <th>2426</th>\n",
       "      <td>6</td>\n",
       "      <td>3</td>\n",
       "      <td>16</td>\n",
       "      <td>1</td>\n",
       "      <td>0</td>\n",
       "    </tr>\n",
       "    <tr>\n",
       "      <th>2427</th>\n",
       "      <td>6</td>\n",
       "      <td>3</td>\n",
       "      <td>17</td>\n",
       "      <td>1</td>\n",
       "      <td>0</td>\n",
       "    </tr>\n",
       "  </tbody>\n",
       "</table>\n",
       "<p>1000 rows × 5 columns</p>\n",
       "</div>"
      ],
      "text/plain": [
       "      month  day  hour  holiday  weekend\n",
       "1428      6    6     2        1        1\n",
       "1429      6    6     3        1        1\n",
       "1430      6    6     4        1        1\n",
       "1431      6    6     5        1        1\n",
       "1432      6    6     6        1        1\n",
       "...     ...  ...   ...      ...      ...\n",
       "2423      6    3    13        1        0\n",
       "2424      6    3    14        1        0\n",
       "2425      6    3    15        1        0\n",
       "2426      6    3    16        1        0\n",
       "2427      6    3    17        1        0\n",
       "\n",
       "[1000 rows x 5 columns]"
      ]
     },
     "execution_count": 75,
     "metadata": {},
     "output_type": "execute_result"
    }
   ],
   "source": [
    "train_0, test_0 = all_splits[0]\n",
    "\n",
    "X.iloc[test_0]\n"
   ]
  },
  {
   "attachments": {},
   "cell_type": "markdown",
   "metadata": {},
   "source": [
    "Models"
   ]
  },
  {
   "cell_type": "code",
   "execution_count": 76,
   "metadata": {},
   "outputs": [],
   "source": [
    "def evaluate(model, X, y, cv):\n",
    "    cv_results = cross_validate(\n",
    "        model,\n",
    "        X,\n",
    "        y,\n",
    "        cv=cv,\n",
    "        scoring=[\"neg_mean_absolute_error\", \"neg_root_mean_squared_error\"],\n",
    "    )\n",
    "    mae = -cv_results[\"test_neg_mean_absolute_error\"]\n",
    "    rmse = -cv_results[\"test_neg_root_mean_squared_error\"]\n",
    "    print(\n",
    "        f\"Mean Absolute Error:     {mae.mean():.3f} +/- {mae.std():.3f}\\n\"\n",
    "        f\"Root Mean Squared Error: {rmse.mean():.3f} +/- {rmse.std():.3f}\"\n",
    "    )\n"
   ]
  },
  {
   "cell_type": "code",
   "execution_count": 77,
   "metadata": {},
   "outputs": [
    {
     "name": "stdout",
     "output_type": "stream",
     "text": [
      "Mean Absolute Error:     0.030 +/- 0.002\n",
      "Root Mean Squared Error: 0.045 +/- 0.003\n"
     ]
    }
   ],
   "source": [
    "\n",
    "min_max_scaler=MinMaxScaler()\n",
    "numerical_columns=['weekend','holiday','hour','day','month']\n",
    "alphas = np.logspace(-6, 6, 25)\n",
    "naive_linear_pipeline = make_pipeline(\n",
    "    ColumnTransformer(\n",
    "        transformers=[\n",
    "            (\"minmax\", min_max_scaler, numerical_columns),\n",
    "        ],remainder=\"passthrough\",\n",
    "\n",
    "    ),\n",
    "    RidgeCV(alphas=alphas),\n",
    ")\n",
    "evaluate(naive_linear_pipeline, X, y, cv=ts_cv)"
   ]
  },
  {
   "attachments": {},
   "cell_type": "markdown",
   "metadata": {},
   "source": [
    "Adding spline features\n",
    "read up on meaning of n_splines, knots, degrees and bias"
   ]
  },
  {
   "cell_type": "code",
   "execution_count": 78,
   "metadata": {},
   "outputs": [],
   "source": [
    "from sklearn.preprocessing import SplineTransformer\n",
    "\n",
    "\n",
    "def periodic_spline_transformer(period, n_splines=None, degree=3):\n",
    "    if n_splines is None:\n",
    "        n_splines = period\n",
    "    n_knots = n_splines + 1  # periodic and include_bias is True\n",
    "    return SplineTransformer(\n",
    "        degree=degree,\n",
    "        n_knots=n_knots,\n",
    "        knots=np.linspace(0, period, n_knots).reshape(n_knots, 1),\n",
    "        extrapolation=\"periodic\",\n",
    "        include_bias=True,\n",
    "    )"
   ]
  },
  {
   "cell_type": "code",
   "execution_count": 126,
   "metadata": {},
   "outputs": [
    {
     "name": "stdout",
     "output_type": "stream",
     "text": [
      "Mean Absolute Error:     0.026 +/- 0.002\n",
      "Root Mean Squared Error: 0.038 +/- 0.003\n"
     ]
    }
   ],
   "source": [
    "cyclic_spline_transformer = ColumnTransformer(\n",
    "    transformers=[\n",
    "        (\"cyclic_month\", periodic_spline_transformer(12, n_splines=6), [\"month\"]),\n",
    "        (\"cyclic_weekday\", periodic_spline_transformer(7, n_splines=3), [\"day\"]),\n",
    "        (\"cyclic_hour\", periodic_spline_transformer(24, n_splines=12), [\"hour\"]),\n",
    "    ],\n",
    "    remainder=MinMaxScaler(),\n",
    ")\n",
    "cyclic_spline_linear_pipeline = make_pipeline(\n",
    "    cyclic_spline_transformer,\n",
    "    RidgeCV(alphas=alphas),\n",
    ")\n",
    "evaluate(cyclic_spline_linear_pipeline, X, y, cv=ts_cv)"
   ]
  },
  {
   "attachments": {},
   "cell_type": "markdown",
   "metadata": {},
   "source": [
    "Adding pairwise interactions"
   ]
  },
  {
   "cell_type": "code",
   "execution_count": 98,
   "metadata": {},
   "outputs": [
    {
     "data": {
      "text/html": [
       "<div>\n",
       "<style scoped>\n",
       "    .dataframe tbody tr th:only-of-type {\n",
       "        vertical-align: middle;\n",
       "    }\n",
       "\n",
       "    .dataframe tbody tr th {\n",
       "        vertical-align: top;\n",
       "    }\n",
       "\n",
       "    .dataframe thead th {\n",
       "        text-align: right;\n",
       "    }\n",
       "</style>\n",
       "<table border=\"1\" class=\"dataframe\">\n",
       "  <thead>\n",
       "    <tr style=\"text-align: right;\">\n",
       "      <th></th>\n",
       "      <th>month</th>\n",
       "      <th>day</th>\n",
       "      <th>hour</th>\n",
       "      <th>holiday</th>\n",
       "      <th>weekend</th>\n",
       "    </tr>\n",
       "  </thead>\n",
       "  <tbody>\n",
       "    <tr>\n",
       "      <th>0</th>\n",
       "      <td>7</td>\n",
       "      <td>6</td>\n",
       "      <td>13</td>\n",
       "      <td>1</td>\n",
       "      <td>1</td>\n",
       "    </tr>\n",
       "    <tr>\n",
       "      <th>1</th>\n",
       "      <td>7</td>\n",
       "      <td>6</td>\n",
       "      <td>14</td>\n",
       "      <td>1</td>\n",
       "      <td>1</td>\n",
       "    </tr>\n",
       "    <tr>\n",
       "      <th>2</th>\n",
       "      <td>7</td>\n",
       "      <td>6</td>\n",
       "      <td>15</td>\n",
       "      <td>1</td>\n",
       "      <td>1</td>\n",
       "    </tr>\n",
       "    <tr>\n",
       "      <th>3</th>\n",
       "      <td>7</td>\n",
       "      <td>6</td>\n",
       "      <td>16</td>\n",
       "      <td>1</td>\n",
       "      <td>1</td>\n",
       "    </tr>\n",
       "    <tr>\n",
       "      <th>4</th>\n",
       "      <td>7</td>\n",
       "      <td>6</td>\n",
       "      <td>17</td>\n",
       "      <td>1</td>\n",
       "      <td>1</td>\n",
       "    </tr>\n",
       "  </tbody>\n",
       "</table>\n",
       "</div>"
      ],
      "text/plain": [
       "   month  day  hour  holiday  weekend\n",
       "0      7    6    13        1        1\n",
       "1      7    6    14        1        1\n",
       "2      7    6    15        1        1\n",
       "3      7    6    16        1        1\n",
       "4      7    6    17        1        1"
      ]
     },
     "execution_count": 98,
     "metadata": {},
     "output_type": "execute_result"
    }
   ],
   "source": [
    "X.head()"
   ]
  },
  {
   "cell_type": "code",
   "execution_count": 127,
   "metadata": {},
   "outputs": [],
   "source": [
    "from sklearn.preprocessing import PolynomialFeatures\n",
    "from sklearn.pipeline import FeatureUnion\n",
    "\n",
    "\n",
    "hour_holiday_interaction = make_pipeline(\n",
    "    ColumnTransformer(\n",
    "        [\n",
    "            (\"cyclic_hour\", periodic_spline_transformer(24, n_splines=8), [\"hour\"]),\n",
    "            (\"weekend\", FunctionTransformer(lambda x: x == 1), [\"holiday\"]),\n",
    "        ]\n",
    "    ),\n",
    "    PolynomialFeatures(degree=2, interaction_only=True, include_bias=False),\n",
    ")\n",
    "\n",
    "day_holiday_interaction = make_pipeline(\n",
    "    ColumnTransformer(\n",
    "        [\n",
    "            (\"cyclic_weekday\", periodic_spline_transformer(7, n_splines=3), [\"day\"]),\n",
    "            (\"holiday\", FunctionTransformer(lambda x: x == 1), [\"holiday\"]),\n",
    "        ]\n",
    "    ),\n",
    "    PolynomialFeatures(degree=2, interaction_only=True, include_bias=False),\n",
    ")\n",
    "\n",
    "hour_weekend_interaction = make_pipeline(\n",
    "    ColumnTransformer(\n",
    "        [\n",
    "            (\"cyclic_hour\", periodic_spline_transformer(24, n_splines=8), [\"hour\"]),\n",
    "            (\"weekend\", FunctionTransformer(lambda x: x == 1), [\"weekend\"]),\n",
    "        ]\n",
    "    ),\n",
    "    PolynomialFeatures(degree=2, interaction_only=True, include_bias=False),\n",
    ")\n"
   ]
  },
  {
   "cell_type": "code",
   "execution_count": 128,
   "metadata": {},
   "outputs": [
    {
     "name": "stdout",
     "output_type": "stream",
     "text": [
      "Mean Absolute Error:     0.025 +/- 0.001\n",
      "Root Mean Squared Error: 0.037 +/- 0.003\n"
     ]
    }
   ],
   "source": [
    "#adding combining the spline pipeline and the interactions pipeline\n",
    "cyclic_spline_interactions_pipeline = make_pipeline(\n",
    "    FeatureUnion(\n",
    "        [\n",
    "            (\"marginal\", cyclic_spline_transformer),\n",
    "            (\"interactions1\", hour_weekend_interaction),\n",
    "            (\"interactions2\",day_holiday_interaction ),\n",
    "            (\"interactions3\",hour_holiday_interaction),\n",
    "            \n",
    "        ]\n",
    "    ),\n",
    "    RidgeCV(alphas=alphas),\n",
    ")\n",
    "evaluate(cyclic_spline_interactions_pipeline, X, y, cv=ts_cv)"
   ]
  },
  {
   "attachments": {},
   "cell_type": "markdown",
   "metadata": {},
   "source": [
    "Interactions using a kernel"
   ]
  },
  {
   "cell_type": "code",
   "execution_count": 129,
   "metadata": {},
   "outputs": [
    {
     "name": "stdout",
     "output_type": "stream",
     "text": [
      "Mean Absolute Error:     0.026 +/- 0.002\n",
      "Root Mean Squared Error: 0.038 +/- 0.003\n"
     ]
    }
   ],
   "source": [
    "from sklearn.kernel_approximation import Nystroem\n",
    "\n",
    "\n",
    "cyclic_spline_poly_pipeline = make_pipeline(\n",
    "    cyclic_spline_transformer,\n",
    "    Nystroem(kernel=\"poly\", degree=2, n_components=300, random_state=0),\n",
    "    RidgeCV(alphas=alphas),\n",
    ")\n",
    "evaluate(cyclic_spline_poly_pipeline, X, y, cv=ts_cv)"
   ]
  },
  {
   "cell_type": "code",
   "execution_count": 119,
   "metadata": {},
   "outputs": [],
   "source": [
    "#just spline transformations\n",
    "cyclic_spline_linear_pipeline.fit(X.iloc[train_0], y.iloc[train_0])\n",
    "cyclic_spline_linear_predictions=cyclic_spline_linear_pipeline.predict(X.iloc[test_0])\n",
    "#spline transformation with interactions\n",
    "cyclic_spline_interactions_pipeline.fit(X.iloc[train_0], y.iloc[train_0])\n",
    "cyclic_spline_interactions_predictions=cyclic_spline_interactions_pipeline.predict(X.iloc[test_0])\n",
    "#spline interactions with kernel\n",
    "cyclic_spline_poly_pipeline.fit(X.iloc[train_0], y.iloc[train_0])\n",
    "cyclic_spline_poly_predictions = cyclic_spline_poly_pipeline.predict(X.iloc[test_0])\n"
   ]
  },
  {
   "attachments": {},
   "cell_type": "markdown",
   "metadata": {},
   "source": [
    "Plotting different models"
   ]
  },
  {
   "cell_type": "code",
   "execution_count": 130,
   "metadata": {},
   "outputs": [
    {
     "data": {
      "image/png": "[encoded data removed]",
      "text/plain": [
       "<Figure size 1200x400 with 1 Axes>"
      ]
     },
     "metadata": {},
     "output_type": "display_data"
    }
   ],
   "source": [
    "last_hours = slice(-96, None)\n",
    "fig, ax = plt.subplots(figsize=(12, 4))\n",
    "fig.suptitle(\"Predictions by non-linear regression models\")\n",
    "ax.plot(\n",
    "    y.iloc[test_0].values[last_hours],\n",
    "    \"x-\",\n",
    "    alpha=0.2,\n",
    "    label=\"Actual demand\",\n",
    "    color=\"black\",\n",
    ")\n",
    "ax.plot(\n",
    "    cyclic_spline_linear_predictions[last_hours],\n",
    "    \"x-\",\n",
    "    label=\"Spline transformation\",\n",
    ")\n",
    "ax.plot(\n",
    "    cyclic_spline_interactions_predictions[last_hours],\n",
    "    \"x-\",\n",
    "    label=\"Spline + polynomian interactions\",\n",
    ")\n",
    "ax.plot(\n",
    "    cyclic_spline_poly_predictions[last_hours],\n",
    "    \"x-\",\n",
    "    label=\"Splines + polynomial kernel\",\n",
    ")\n",
    "_ = ax.legend()"
   ]
  }
 ],
 "metadata": {
  "kernelspec": {
   "display_name": "base",
   "language": "python",
   "name": "python3"
  },
  "language_info": {
   "codemirror_mode": {
    "name": "ipython",
    "version": 3
   },
   "file_extension": ".py",
   "mimetype": "text/x-python",
   "name": "python",
   "nbconvert_exporter": "python",
   "pygments_lexer": "ipython3",
   "version": "3.9.13"
  },
  "orig_nbformat": 4
 },
 "nbformat": 4,
 "nbformat_minor": 2
}
