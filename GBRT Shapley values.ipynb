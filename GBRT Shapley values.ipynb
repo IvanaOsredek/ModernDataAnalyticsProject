{
 "cells": [
  {
   "cell_type": "code",
   "execution_count": null,
   "metadata": {},
   "outputs": [],
   "source": [
    "def plot_shaply(pipeline_step):\n",
    "    #this model calculates shapley values for all models previously introduced\n",
    "    SHAP_values_per_fold = [] #-#-#\n",
    "\n",
    "    for i in range(len(all_splits)):\n",
    "        X_train=X.iloc[all_splits[i][0]]\n",
    "        X_test=X.iloc[all_splits[i][1]]\n",
    "        y_train=y.iloc[all_splits[i][0]]\n",
    "        y_test=y.iloc[all_splits[i][1]]\n",
    "\n",
    "\n",
    "        \n",
    "\n",
    "        model = pipeline_step\n",
    "        fit = model.fit(X_train, y_train)\n",
    "        \n",
    "        # Use SHAP to explain predictions\n",
    "        explainer = shap.Explainer(model)\n",
    "        shap_values = explainer.shap_values(X_test)\n",
    "        for SHAPs in shap_values:\n",
    "            SHAP_values_per_fold.append(SHAPs) #-#-#\n",
    "\n",
    "    #print(SHAP_values_per_fold)\n",
    "    ix_training, ix_test = [], []\n",
    "    # Loop through each fold and append the training & test indices to the empty lists above\n",
    "    for fold in ts_cv.split(df):\n",
    "        ix_training.append(fold[0]), ix_test.append(fold[1])\n",
    "    #create new index for Shapley values\n",
    "    new_index = [ix for ix_test_fold in ix_test for ix in ix_test_fold]\n",
    "    #plot shapley values\n",
    "    shap.summary_plot(np.array(SHAP_values_per_fold), X.reindex(new_index))\n",
    "\n",
    "#Shapley values for gbrt_pipeline\n",
    "plot_shaply(gbrt_pipeline.named_steps['gradientboostingregressor'])  "
   ]
  },
  {
   "cell_type": "code",
   "execution_count": null,
   "metadata": {},
   "outputs": [],
   "source": [
    "# explain the model's predictions using SHAP this is a great way of showing how different variables determine the prediction: even nice as a visualisation\n",
    "explainer = shap.Explainer(gbrt_pipeline.named_steps['gradientboostingregressor'])\n",
    "shap_values = explainer.shap_values(X_train)\n",
    "\n",
    "# visualize the first prediction's explanation \n",
    "shap.initjs()\n",
    "shap.force_plot(explainer.expected_value, shap_values[0,:], X_train.iloc[0,:])"
   ]
  }
 ],
 "metadata": {
  "language_info": {
   "name": "python"
  },
  "orig_nbformat": 4
 },
 "nbformat": 4,
 "nbformat_minor": 2
}
